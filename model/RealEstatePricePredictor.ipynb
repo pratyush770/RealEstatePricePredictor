{
 "cells": [
  {
   "cell_type": "code",
   "execution_count": 1,
   "id": "24a91807-df45-490b-ab4d-2e0a762b4221",
   "metadata": {},
   "outputs": [],
   "source": [
    "import pandas as pd\n",
    "import numpy as np\n",
    "import matplotlib.pyplot as plt\n",
    "%matplotlib inline"
   ]
  },
  {
   "cell_type": "code",
   "execution_count": 2,
   "id": "3f2df657-ea17-4091-9050-b92c9695c602",
   "metadata": {},
   "outputs": [
    {
     "data": {
      "text/html": [
       "<div>\n",
       "<style scoped>\n",
       "    .dataframe tbody tr th:only-of-type {\n",
       "        vertical-align: middle;\n",
       "    }\n",
       "\n",
       "    .dataframe tbody tr th {\n",
       "        vertical-align: top;\n",
       "    }\n",
       "\n",
       "    .dataframe thead th {\n",
       "        text-align: right;\n",
       "    }\n",
       "</style>\n",
       "<table border=\"1\" class=\"dataframe\">\n",
       "  <thead>\n",
       "    <tr style=\"text-align: right;\">\n",
       "      <th></th>\n",
       "      <th>area_type</th>\n",
       "      <th>availability</th>\n",
       "      <th>location</th>\n",
       "      <th>size</th>\n",
       "      <th>society</th>\n",
       "      <th>total_sqft</th>\n",
       "      <th>bath</th>\n",
       "      <th>balcony</th>\n",
       "      <th>price</th>\n",
       "    </tr>\n",
       "  </thead>\n",
       "  <tbody>\n",
       "    <tr>\n",
       "      <th>0</th>\n",
       "      <td>Super built-up  Area</td>\n",
       "      <td>19-Dec</td>\n",
       "      <td>Alandi Road</td>\n",
       "      <td>2 BHK</td>\n",
       "      <td>Coomee</td>\n",
       "      <td>1056</td>\n",
       "      <td>2.0</td>\n",
       "      <td>1.0</td>\n",
       "      <td>39.07</td>\n",
       "    </tr>\n",
       "    <tr>\n",
       "      <th>1</th>\n",
       "      <td>Plot  Area</td>\n",
       "      <td>Ready To Move</td>\n",
       "      <td>Ambegaon Budruk</td>\n",
       "      <td>4 Bedroom</td>\n",
       "      <td>Theanmp</td>\n",
       "      <td>2600</td>\n",
       "      <td>5.0</td>\n",
       "      <td>3.0</td>\n",
       "      <td>120.00</td>\n",
       "    </tr>\n",
       "    <tr>\n",
       "      <th>2</th>\n",
       "      <td>Built-up  Area</td>\n",
       "      <td>Ready To Move</td>\n",
       "      <td>Anandnagar</td>\n",
       "      <td>3 BHK</td>\n",
       "      <td>NaN</td>\n",
       "      <td>1440</td>\n",
       "      <td>2.0</td>\n",
       "      <td>3.0</td>\n",
       "      <td>62.00</td>\n",
       "    </tr>\n",
       "    <tr>\n",
       "      <th>3</th>\n",
       "      <td>Super built-up  Area</td>\n",
       "      <td>Ready To Move</td>\n",
       "      <td>Aundh</td>\n",
       "      <td>3 BHK</td>\n",
       "      <td>Soiewre</td>\n",
       "      <td>1521</td>\n",
       "      <td>3.0</td>\n",
       "      <td>1.0</td>\n",
       "      <td>95.00</td>\n",
       "    </tr>\n",
       "    <tr>\n",
       "      <th>4</th>\n",
       "      <td>Super built-up  Area</td>\n",
       "      <td>Ready To Move</td>\n",
       "      <td>Aundh Road</td>\n",
       "      <td>2 BHK</td>\n",
       "      <td>NaN</td>\n",
       "      <td>1200</td>\n",
       "      <td>2.0</td>\n",
       "      <td>1.0</td>\n",
       "      <td>51.00</td>\n",
       "    </tr>\n",
       "  </tbody>\n",
       "</table>\n",
       "</div>"
      ],
      "text/plain": [
       "              area_type   availability         location       size  society  \\\n",
       "0  Super built-up  Area         19-Dec      Alandi Road      2 BHK   Coomee   \n",
       "1            Plot  Area  Ready To Move  Ambegaon Budruk  4 Bedroom  Theanmp   \n",
       "2        Built-up  Area  Ready To Move       Anandnagar      3 BHK      NaN   \n",
       "3  Super built-up  Area  Ready To Move            Aundh      3 BHK  Soiewre   \n",
       "4  Super built-up  Area  Ready To Move       Aundh Road      2 BHK      NaN   \n",
       "\n",
       "  total_sqft  bath  balcony   price  \n",
       "0       1056   2.0      1.0   39.07  \n",
       "1       2600   5.0      3.0  120.00  \n",
       "2       1440   2.0      3.0   62.00  \n",
       "3       1521   3.0      1.0   95.00  \n",
       "4       1200   2.0      1.0   51.00  "
      ]
     },
     "execution_count": 2,
     "metadata": {},
     "output_type": "execute_result"
    }
   ],
   "source": [
    "estate = pd.read_csv(\"C://Users//ADMIN//Downloads/Pune_House_Data.csv\")\n",
    "estate.head()  # returns the first 5 rows"
   ]
  },
  {
   "cell_type": "code",
   "execution_count": 3,
   "id": "289e8e7f-8df5-4cc4-a991-0212fdd01c3a",
   "metadata": {},
   "outputs": [
    {
     "data": {
      "text/plain": [
       "(13320, 9)"
      ]
     },
     "execution_count": 3,
     "metadata": {},
     "output_type": "execute_result"
    }
   ],
   "source": [
    "estate.shape  # returns the total number of rows and columns"
   ]
  },
  {
   "cell_type": "code",
   "execution_count": 4,
   "id": "b2f57f9d-041a-4eb4-a843-f8507281a0a9",
   "metadata": {},
   "outputs": [
    {
     "data": {
      "text/plain": [
       "area_type\n",
       "Built-up  Area          2418\n",
       "Carpet  Area              87\n",
       "Plot  Area              2025\n",
       "Super built-up  Area    8790\n",
       "Name: area_type, dtype: int64"
      ]
     },
     "execution_count": 4,
     "metadata": {},
     "output_type": "execute_result"
    }
   ],
   "source": [
    "estate.groupby(\"area_type\")[\"area_type\"].agg(\"count\")  # gives the aggregate count of each type from the specified group"
   ]
  },
  {
   "cell_type": "code",
   "execution_count": 5,
   "id": "d94dd21b-df6a-4d46-868a-0defba2ec9e6",
   "metadata": {},
   "outputs": [
    {
     "data": {
      "image/png": "[encoded data removed]",
      "text/plain": [
       "<Figure size 640x480 with 1 Axes>"
      ]
     },
     "metadata": {},
     "output_type": "display_data"
    }
   ],
   "source": [
    "plt.title(\"Area_Type vs Price comparison\")\n",
    "plt.scatter(estate.area_type,estate.price,color='red',marker='o')\n",
    "plt.xlabel(\"Area_Type\")\n",
    "plt.ylabel(\"Price\")\n",
    "plt.show()"
   ]
  },
  {
   "cell_type": "code",
   "execution_count": 6,
   "id": "2bf8d543-637b-4117-9fc3-e0108209a73c",
   "metadata": {},
   "outputs": [
    {
     "data": {
      "image/png": "[encoded data removed]",
      "text/plain": [
       "<Figure size 640x480 with 1 Axes>"
      ]
     },
     "metadata": {},
     "output_type": "display_data"
    }
   ],
   "source": [
    "plt.title(\"Balcony vs Price comparison\")\n",
    "plt.scatter(estate.balcony,estate.price,color='orange',marker='*')\n",
    "plt.xlabel(\"Balcony\")\n",
    "plt.ylabel(\"Price\")\n",
    "plt.show()"
   ]
  },
  {
   "cell_type": "markdown",
   "id": "c55f6ec8-d2f5-4427-945d-835d61b0aa36",
   "metadata": {},
   "source": [
    "#### Looking at the above two scatter plots we can clearly see a linear regression"
   ]
  },
  {
   "cell_type": "code",
   "execution_count": 7,
   "id": "86f85fe3-9d7f-49aa-9d3b-7bb0b4a0ab5b",
   "metadata": {},
   "outputs": [
    {
     "data": {
      "text/html": [
       "<div>\n",
       "<style scoped>\n",
       "    .dataframe tbody tr th:only-of-type {\n",
       "        vertical-align: middle;\n",
       "    }\n",
       "\n",
       "    .dataframe tbody tr th {\n",
       "        vertical-align: top;\n",
       "    }\n",
       "\n",
       "    .dataframe thead th {\n",
       "        text-align: right;\n",
       "    }\n",
       "</style>\n",
       "<table border=\"1\" class=\"dataframe\">\n",
       "  <thead>\n",
       "    <tr style=\"text-align: right;\">\n",
       "      <th></th>\n",
       "      <th>area_type</th>\n",
       "      <th>location</th>\n",
       "      <th>size</th>\n",
       "      <th>total_sqft</th>\n",
       "      <th>bath</th>\n",
       "      <th>balcony</th>\n",
       "      <th>price</th>\n",
       "    </tr>\n",
       "  </thead>\n",
       "  <tbody>\n",
       "    <tr>\n",
       "      <th>0</th>\n",
       "      <td>Super built-up  Area</td>\n",
       "      <td>Alandi Road</td>\n",
       "      <td>2 BHK</td>\n",
       "      <td>1056</td>\n",
       "      <td>2.0</td>\n",
       "      <td>1.0</td>\n",
       "      <td>39.07</td>\n",
       "    </tr>\n",
       "    <tr>\n",
       "      <th>1</th>\n",
       "      <td>Plot  Area</td>\n",
       "      <td>Ambegaon Budruk</td>\n",
       "      <td>4 Bedroom</td>\n",
       "      <td>2600</td>\n",
       "      <td>5.0</td>\n",
       "      <td>3.0</td>\n",
       "      <td>120.00</td>\n",
       "    </tr>\n",
       "    <tr>\n",
       "      <th>2</th>\n",
       "      <td>Built-up  Area</td>\n",
       "      <td>Anandnagar</td>\n",
       "      <td>3 BHK</td>\n",
       "      <td>1440</td>\n",
       "      <td>2.0</td>\n",
       "      <td>3.0</td>\n",
       "      <td>62.00</td>\n",
       "    </tr>\n",
       "    <tr>\n",
       "      <th>3</th>\n",
       "      <td>Super built-up  Area</td>\n",
       "      <td>Aundh</td>\n",
       "      <td>3 BHK</td>\n",
       "      <td>1521</td>\n",
       "      <td>3.0</td>\n",
       "      <td>1.0</td>\n",
       "      <td>95.00</td>\n",
       "    </tr>\n",
       "    <tr>\n",
       "      <th>4</th>\n",
       "      <td>Super built-up  Area</td>\n",
       "      <td>Aundh Road</td>\n",
       "      <td>2 BHK</td>\n",
       "      <td>1200</td>\n",
       "      <td>2.0</td>\n",
       "      <td>1.0</td>\n",
       "      <td>51.00</td>\n",
       "    </tr>\n",
       "  </tbody>\n",
       "</table>\n",
       "</div>"
      ],
      "text/plain": [
       "              area_type         location       size total_sqft  bath  balcony  \\\n",
       "0  Super built-up  Area      Alandi Road      2 BHK       1056   2.0      1.0   \n",
       "1            Plot  Area  Ambegaon Budruk  4 Bedroom       2600   5.0      3.0   \n",
       "2        Built-up  Area       Anandnagar      3 BHK       1440   2.0      3.0   \n",
       "3  Super built-up  Area            Aundh      3 BHK       1521   3.0      1.0   \n",
       "4  Super built-up  Area       Aundh Road      2 BHK       1200   2.0      1.0   \n",
       "\n",
       "    price  \n",
       "0   39.07  \n",
       "1  120.00  \n",
       "2   62.00  \n",
       "3   95.00  \n",
       "4   51.00  "
      ]
     },
     "execution_count": 7,
     "metadata": {},
     "output_type": "execute_result"
    }
   ],
   "source": [
    "new_estate = estate.drop(['availability','society'],axis='columns')  # remove these 2 columns as they are not required for prediction\n",
    "new_estate.head()"
   ]
  },
  {
   "cell_type": "code",
   "execution_count": 8,
   "id": "96037438-e3e3-4a81-aaf3-f9b2f2364a5e",
   "metadata": {},
   "outputs": [
    {
     "data": {
      "text/plain": [
       "area_type       0\n",
       "location        1\n",
       "size           16\n",
       "total_sqft      0\n",
       "bath           73\n",
       "balcony       609\n",
       "price           0\n",
       "dtype: int64"
      ]
     },
     "execution_count": 8,
     "metadata": {},
     "output_type": "execute_result"
    }
   ],
   "source": [
    "new_estate.isnull().sum()  # returns the sum of null columns for each column"
   ]
  },
  {
   "cell_type": "code",
   "execution_count": 9,
   "id": "0cfe365d-938f-4c95-af06-f7a5b701736a",
   "metadata": {},
   "outputs": [
    {
     "data": {
      "text/html": [
       "<div>\n",
       "<style scoped>\n",
       "    .dataframe tbody tr th:only-of-type {\n",
       "        vertical-align: middle;\n",
       "    }\n",
       "\n",
       "    .dataframe tbody tr th {\n",
       "        vertical-align: top;\n",
       "    }\n",
       "\n",
       "    .dataframe thead th {\n",
       "        text-align: right;\n",
       "    }\n",
       "</style>\n",
       "<table border=\"1\" class=\"dataframe\">\n",
       "  <thead>\n",
       "    <tr style=\"text-align: right;\">\n",
       "      <th></th>\n",
       "      <th>area_type</th>\n",
       "      <th>location</th>\n",
       "      <th>size</th>\n",
       "      <th>total_sqft</th>\n",
       "      <th>bath</th>\n",
       "      <th>balcony</th>\n",
       "      <th>price</th>\n",
       "    </tr>\n",
       "  </thead>\n",
       "  <tbody>\n",
       "    <tr>\n",
       "      <th>0</th>\n",
       "      <td>Super built-up  Area</td>\n",
       "      <td>Alandi Road</td>\n",
       "      <td>2 BHK</td>\n",
       "      <td>1056</td>\n",
       "      <td>2.0</td>\n",
       "      <td>1.0</td>\n",
       "      <td>39.07</td>\n",
       "    </tr>\n",
       "    <tr>\n",
       "      <th>1</th>\n",
       "      <td>Plot  Area</td>\n",
       "      <td>Ambegaon Budruk</td>\n",
       "      <td>4 Bedroom</td>\n",
       "      <td>2600</td>\n",
       "      <td>5.0</td>\n",
       "      <td>3.0</td>\n",
       "      <td>120.00</td>\n",
       "    </tr>\n",
       "    <tr>\n",
       "      <th>2</th>\n",
       "      <td>Built-up  Area</td>\n",
       "      <td>Anandnagar</td>\n",
       "      <td>3 BHK</td>\n",
       "      <td>1440</td>\n",
       "      <td>2.0</td>\n",
       "      <td>3.0</td>\n",
       "      <td>62.00</td>\n",
       "    </tr>\n",
       "    <tr>\n",
       "      <th>3</th>\n",
       "      <td>Super built-up  Area</td>\n",
       "      <td>Aundh</td>\n",
       "      <td>3 BHK</td>\n",
       "      <td>1521</td>\n",
       "      <td>3.0</td>\n",
       "      <td>1.0</td>\n",
       "      <td>95.00</td>\n",
       "    </tr>\n",
       "    <tr>\n",
       "      <th>4</th>\n",
       "      <td>Super built-up  Area</td>\n",
       "      <td>Aundh Road</td>\n",
       "      <td>2 BHK</td>\n",
       "      <td>1200</td>\n",
       "      <td>2.0</td>\n",
       "      <td>1.0</td>\n",
       "      <td>51.00</td>\n",
       "    </tr>\n",
       "  </tbody>\n",
       "</table>\n",
       "</div>"
      ],
      "text/plain": [
       "              area_type         location       size total_sqft  bath  balcony  \\\n",
       "0  Super built-up  Area      Alandi Road      2 BHK       1056   2.0      1.0   \n",
       "1            Plot  Area  Ambegaon Budruk  4 Bedroom       2600   5.0      3.0   \n",
       "2        Built-up  Area       Anandnagar      3 BHK       1440   2.0      3.0   \n",
       "3  Super built-up  Area            Aundh      3 BHK       1521   3.0      1.0   \n",
       "4  Super built-up  Area       Aundh Road      2 BHK       1200   2.0      1.0   \n",
       "\n",
       "    price  \n",
       "0   39.07  \n",
       "1  120.00  \n",
       "2   62.00  \n",
       "3   95.00  \n",
       "4   51.00  "
      ]
     },
     "execution_count": 9,
     "metadata": {},
     "output_type": "execute_result"
    }
   ],
   "source": [
    "median = new_estate['bath'].median()  # calculates the median for the balcony column\n",
    "new_estate['bath'] = new_estate['bath'].fillna(median)  # fills the null values with the median value\n",
    "new_estate.head()"
   ]
  },
  {
   "cell_type": "code",
   "execution_count": 10,
   "id": "9679ab94-3131-4c9e-814e-0ed5b427c00a",
   "metadata": {},
   "outputs": [
    {
     "data": {
      "text/html": [
       "<div>\n",
       "<style scoped>\n",
       "    .dataframe tbody tr th:only-of-type {\n",
       "        vertical-align: middle;\n",
       "    }\n",
       "\n",
       "    .dataframe tbody tr th {\n",
       "        vertical-align: top;\n",
       "    }\n",
       "\n",
       "    .dataframe thead th {\n",
       "        text-align: right;\n",
       "    }\n",
       "</style>\n",
       "<table border=\"1\" class=\"dataframe\">\n",
       "  <thead>\n",
       "    <tr style=\"text-align: right;\">\n",
       "      <th></th>\n",
       "      <th>area_type</th>\n",
       "      <th>location</th>\n",
       "      <th>size</th>\n",
       "      <th>total_sqft</th>\n",
       "      <th>bath</th>\n",
       "      <th>balcony</th>\n",
       "      <th>price</th>\n",
       "    </tr>\n",
       "  </thead>\n",
       "  <tbody>\n",
       "    <tr>\n",
       "      <th>0</th>\n",
       "      <td>Super built-up  Area</td>\n",
       "      <td>Alandi Road</td>\n",
       "      <td>2 BHK</td>\n",
       "      <td>1056</td>\n",
       "      <td>2.0</td>\n",
       "      <td>1.0</td>\n",
       "      <td>39.07</td>\n",
       "    </tr>\n",
       "    <tr>\n",
       "      <th>1</th>\n",
       "      <td>Plot  Area</td>\n",
       "      <td>Ambegaon Budruk</td>\n",
       "      <td>4 Bedroom</td>\n",
       "      <td>2600</td>\n",
       "      <td>5.0</td>\n",
       "      <td>3.0</td>\n",
       "      <td>120.00</td>\n",
       "    </tr>\n",
       "    <tr>\n",
       "      <th>2</th>\n",
       "      <td>Built-up  Area</td>\n",
       "      <td>Anandnagar</td>\n",
       "      <td>3 BHK</td>\n",
       "      <td>1440</td>\n",
       "      <td>2.0</td>\n",
       "      <td>3.0</td>\n",
       "      <td>62.00</td>\n",
       "    </tr>\n",
       "    <tr>\n",
       "      <th>3</th>\n",
       "      <td>Super built-up  Area</td>\n",
       "      <td>Aundh</td>\n",
       "      <td>3 BHK</td>\n",
       "      <td>1521</td>\n",
       "      <td>3.0</td>\n",
       "      <td>1.0</td>\n",
       "      <td>95.00</td>\n",
       "    </tr>\n",
       "    <tr>\n",
       "      <th>4</th>\n",
       "      <td>Super built-up  Area</td>\n",
       "      <td>Aundh Road</td>\n",
       "      <td>2 BHK</td>\n",
       "      <td>1200</td>\n",
       "      <td>2.0</td>\n",
       "      <td>1.0</td>\n",
       "      <td>51.00</td>\n",
       "    </tr>\n",
       "  </tbody>\n",
       "</table>\n",
       "</div>"
      ],
      "text/plain": [
       "              area_type         location       size total_sqft  bath  balcony  \\\n",
       "0  Super built-up  Area      Alandi Road      2 BHK       1056   2.0      1.0   \n",
       "1            Plot  Area  Ambegaon Budruk  4 Bedroom       2600   5.0      3.0   \n",
       "2        Built-up  Area       Anandnagar      3 BHK       1440   2.0      3.0   \n",
       "3  Super built-up  Area            Aundh      3 BHK       1521   3.0      1.0   \n",
       "4  Super built-up  Area       Aundh Road      2 BHK       1200   2.0      1.0   \n",
       "\n",
       "    price  \n",
       "0   39.07  \n",
       "1  120.00  \n",
       "2   62.00  \n",
       "3   95.00  \n",
       "4   51.00  "
      ]
     },
     "execution_count": 10,
     "metadata": {},
     "output_type": "execute_result"
    }
   ],
   "source": [
    "median = new_estate['balcony'].median()  # calculates the median for the balcony column\n",
    "new_estate['balcony'] = new_estate['balcony'].fillna(median)  # fills the null values with the median value\n",
    "new_estate.head()"
   ]
  },
  {
   "cell_type": "code",
   "execution_count": 11,
   "id": "266b6fbd-954a-4466-8b2a-94d77468040d",
   "metadata": {},
   "outputs": [
    {
     "data": {
      "text/plain": [
       "(13303, 7)"
      ]
     },
     "execution_count": 11,
     "metadata": {},
     "output_type": "execute_result"
    }
   ],
   "source": [
    "new_estate = new_estate.dropna()  # since the other columns do not have much null values we can safely drop those rows\n",
    "new_estate.shape"
   ]
  },
  {
   "cell_type": "code",
   "execution_count": 12,
   "id": "62984f00-1223-4307-8239-4b4b2d37bc4c",
   "metadata": {},
   "outputs": [
    {
     "data": {
      "text/plain": [
       "area_type     0\n",
       "location      0\n",
       "size          0\n",
       "total_sqft    0\n",
       "bath          0\n",
       "balcony       0\n",
       "price         0\n",
       "dtype: int64"
      ]
     },
     "execution_count": 12,
     "metadata": {},
     "output_type": "execute_result"
    }
   ],
   "source": [
    "new_estate.isnull().sum()  # now there are no null values for any column"
   ]
  },
  {
   "cell_type": "code",
   "execution_count": 13,
   "id": "eb886b5f-3a3a-48ad-9dd4-2938ea0d4a2b",
   "metadata": {},
   "outputs": [
    {
     "data": {
      "text/plain": [
       "array(['2 BHK', '4 Bedroom', '3 BHK', '4 BHK', '6 Bedroom', '3 Bedroom',\n",
       "       '1 BHK', '1 RK', '1 Bedroom', '8 Bedroom', '2 Bedroom',\n",
       "       '7 Bedroom', '5 BHK', '7 BHK', '6 BHK', '5 Bedroom', '11 BHK',\n",
       "       '9 BHK', '9 Bedroom', '27 BHK', '10 Bedroom', '11 Bedroom',\n",
       "       '10 BHK', '19 BHK', '16 BHK', '43 Bedroom', '14 BHK', '8 BHK',\n",
       "       '12 Bedroom', '13 BHK', '18 Bedroom'], dtype=object)"
      ]
     },
     "execution_count": 13,
     "metadata": {},
     "output_type": "execute_result"
    }
   ],
   "source": [
    "new_estate['size'].unique()  # here we can clearly see that 4 bedroom and 4 BHK mean the same \n",
    "# so we can remove the words Bedroom and BHK for easy understanding"
   ]
  },
  {
   "cell_type": "code",
   "execution_count": 14,
   "id": "73757aba-1e05-49d4-ad27-0802fd4fe89b",
   "metadata": {},
   "outputs": [
    {
     "data": {
      "text/plain": [
       "array(['2', '4', '3', '6', '1', '8', '7', '5', '11', '9', '27', '10',\n",
       "       '19', '16', '43', '14', '12', '13', '18'], dtype=object)"
      ]
     },
     "execution_count": 14,
     "metadata": {},
     "output_type": "execute_result"
    }
   ],
   "source": [
    "# we use anonymous function to split the words and return the first index\n",
    "new_estate.loc[:,'size'] = new_estate['size'].apply(lambda x : x.split(' ')[0])  \n",
    "new_estate['size'].unique()"
   ]
  },
  {
   "cell_type": "code",
   "execution_count": 15,
   "id": "48651998-871e-4375-a3bb-685708268ecf",
   "metadata": {},
   "outputs": [
    {
     "data": {
      "text/plain": [
       "dtype('O')"
      ]
     },
     "execution_count": 15,
     "metadata": {},
     "output_type": "execute_result"
    }
   ],
   "source": [
    "new_estate['total_sqft'].dtype\n",
    "# Here the data type is object which indicates that there is combination of strings and numeric values"
   ]
  },
  {
   "cell_type": "code",
   "execution_count": 16,
   "id": "1d16a079-24a2-4010-bfcb-19cb96f44fa4",
   "metadata": {},
   "outputs": [
    {
     "data": {
      "text/plain": [
       "array(['1056', '2600', '1440', ..., '1133 - 1384', '774', '4689'],\n",
       "      dtype=object)"
      ]
     },
     "execution_count": 16,
     "metadata": {},
     "output_type": "execute_result"
    }
   ],
   "source": [
    "new_estate['total_sqft'].unique() \n",
    "# here we see a range of values which becomes difficult to understand and so we can take average of those numbers for better understanding"
   ]
  },
  {
   "cell_type": "code",
   "execution_count": 17,
   "id": "cfeb532e-f880-4002-87bf-fffef57ea441",
   "metadata": {},
   "outputs": [
    {
     "data": {
      "text/plain": [
       "(46, 7)"
      ]
     },
     "execution_count": 17,
     "metadata": {},
     "output_type": "execute_result"
    }
   ],
   "source": [
    "filtered_rows = new_estate[new_estate['total_sqft'].str.endswith(('Meter','Yards','Perch','Acres','Guntha','Cents','Grounds'))]\n",
    "filtered_rows.shape # here we get 46  values which have different unit than square feet so we convert them"
   ]
  },
  {
   "cell_type": "code",
   "execution_count": 18,
   "id": "df802019-200f-4193-9f11-68f3cd25da34",
   "metadata": {},
   "outputs": [],
   "source": [
    "import re  # regex library"
   ]
  },
  {
   "cell_type": "code",
   "execution_count": 19,
   "id": "0cedfa26-f048-4560-a7ec-fcaf72ba177d",
   "metadata": {},
   "outputs": [],
   "source": [
    "# function to split the number and unit\n",
    "def split_num_and_unit(x):   \n",
    "    if isinstance(x, str):  # if the value is string then only move ahead\n",
    "        numbers = re.search(r'\\d+(\\.\\d+)?', x)\n",
    "        if numbers:\n",
    "            return numbers.group()\n",
    "    return None"
   ]
  },
  {
   "cell_type": "code",
   "execution_count": 20,
   "id": "80fd8e7f-0245-445b-84c7-fe4e92fd0a58",
   "metadata": {},
   "outputs": [],
   "source": [
    "def convert_unit_to_sqft(x):   \n",
    "    if isinstance(x, str):\n",
    "        val = split_num_and_unit(x)  # calls the above function\n",
    "        if val:\n",
    "            if x.endswith('Meter'):\n",
    "                val = float(val) * 10.764  # converts square meter to square feet\n",
    "            elif x.endswith('Yards'):\n",
    "                val = float(val) * 9   # converts square yards to square feet\n",
    "            elif x.endswith('Perch'):\n",
    "                val = float(val) * 272.25   # converts perch to square feet\n",
    "            elif x.endswith('Acres'):\n",
    "                val = float(val) * 43560   # converts acres to square feet\n",
    "            elif x.endswith('Guntha'):\n",
    "                val = float(val) * 1089   # converts guntha to square feet\n",
    "            elif x.endswith('Cents'):\n",
    "                val = float(val) * 435.6    # converts cents to square feet\n",
    "            elif x.endswith('Grounds'):\n",
    "                val = float(val) * 2400   # converts grounds to square feet\n",
    "            else:\n",
    "                val = convert_sqft_to_num(x)\n",
    "        else:\n",
    "            val = None\n",
    "    else:\n",
    "        val = convert_sqft_to_num(x)\n",
    "    return val"
   ]
  },
  {
   "cell_type": "code",
   "execution_count": 21,
   "id": "792dd4fb-f010-4ed2-9309-fd5c5e0d4257",
   "metadata": {},
   "outputs": [],
   "source": [
    "def convert_sqft_to_num(x):\n",
    "    if isinstance(x, str):\n",
    "        token = x.split('-')  # splits the range of numbers by - thus getting 2 numbers\n",
    "        if len(token) == 2:\n",
    "            return (float(token[0]) + float(token[1])) / 2  # sums the two numbers and gets their average\n",
    "        try:\n",
    "            return float(x)\n",
    "        except ValueError:\n",
    "            return None\n",
    "    return x"
   ]
  },
  {
   "cell_type": "code",
   "execution_count": 22,
   "id": "4082f361-26e2-45eb-a809-1da13c829277",
   "metadata": {},
   "outputs": [],
   "source": [
    "new_estate.loc[:,'total_sqft'] = new_estate['total_sqft'].apply(lambda x : convert_unit_to_sqft(x))"
   ]
  },
  {
   "cell_type": "code",
   "execution_count": 23,
   "id": "7489b81b-ca02-4ced-a1a8-b0ecbc099177",
   "metadata": {},
   "outputs": [
    {
     "data": {
      "text/plain": [
       "4"
      ]
     },
     "execution_count": 23,
     "metadata": {},
     "output_type": "execute_result"
    }
   ],
   "source": [
    "len(new_estate['area_type'].unique())  # returns the length of unique values for area_type column"
   ]
  },
  {
   "cell_type": "markdown",
   "id": "d1b29adc-2e3b-40ff-9732-19d5e1c3ea22",
   "metadata": {},
   "source": [
    "#### Now after cleaning the data, let's try to find some outliers"
   ]
  },
  {
   "cell_type": "code",
   "execution_count": 24,
   "id": "2dcdf5ad-9841-4727-9403-c8c260826a48",
   "metadata": {},
   "outputs": [
    {
     "data": {
      "image/png": "[encoded data removed]",
      "text/plain": [
       "<Figure size 640x480 with 1 Axes>"
      ]
     },
     "metadata": {},
     "output_type": "display_data"
    }
   ],
   "source": [
    "import seaborn as sns\n",
    "from scipy import stats\n",
    "sns.boxplot(new_estate['size'])\n",
    "plt.show()\n",
    "\n",
    "# We can clearly see outliers "
   ]
  },
  {
   "cell_type": "code",
   "execution_count": 25,
   "id": "166f6bc3-3a7a-4339-98ca-b3c0bc0fc62b",
   "metadata": {},
   "outputs": [
    {
     "data": {
      "text/plain": [
       "(12457, 7)"
      ]
     },
     "execution_count": 25,
     "metadata": {},
     "output_type": "execute_result"
    }
   ],
   "source": [
    "# Remove outlier using inter-quartile range method\n",
    "new_estate['size'] = new_estate['size'].astype(int)\n",
    "q1 = new_estate['size'].quantile(0.25)\n",
    "q3 = new_estate['size'].quantile(0.75)\n",
    "iqr = q3 - q1\n",
    "lower_limit = q1 - 1.5*iqr\n",
    "upper_limit = q3 + 1.5*iqr\n",
    "new_estate = new_estate[(new_estate['size']>lower_limit) & (new_estate['size']<upper_limit)]\n",
    "new_estate.shape"
   ]
  },
  {
   "cell_type": "code",
   "execution_count": 26,
   "id": "dac62983-46fe-4b6b-8523-a9ef4e566384",
   "metadata": {},
   "outputs": [
    {
     "data": {
      "image/png": "[encoded data removed]",
      "text/plain": [
       "<Figure size 640x480 with 1 Axes>"
      ]
     },
     "metadata": {},
     "output_type": "display_data"
    }
   ],
   "source": [
    "sns.boxplot(new_estate['size'])\n",
    "plt.show()\n",
    "\n",
    "# Outliers removed"
   ]
  },
  {
   "cell_type": "code",
   "execution_count": 27,
   "id": "7f388b05-1bd4-47a4-b47d-6c5fbf58502e",
   "metadata": {},
   "outputs": [
    {
     "data": {
      "image/png": "[encoded data removed]",
      "text/plain": [
       "<Figure size 640x480 with 1 Axes>"
      ]
     },
     "metadata": {},
     "output_type": "display_data"
    }
   ],
   "source": [
    "sns.boxplot(new_estate['total_sqft'])\n",
    "plt.show()\n",
    "\n",
    "# We can clearly see outliers "
   ]
  },
  {
   "cell_type": "code",
   "execution_count": 28,
   "id": "7316512b-bb5e-4198-8d8f-25d50fd239dc",
   "metadata": {},
   "outputs": [
    {
     "data": {
      "text/plain": [
       "(12227, 7)"
      ]
     },
     "execution_count": 28,
     "metadata": {},
     "output_type": "execute_result"
    }
   ],
   "source": [
    "# Remove outlier using percentile method\n",
    "min_percentile = new_estate['total_sqft'].quantile(0.01)\n",
    "max_percentile = new_estate['total_sqft'].quantile(0.99)\n",
    "new_estate = new_estate[(new_estate['total_sqft']>=min_percentile) & (new_estate['total_sqft']<=max_percentile)]\n",
    "new_estate.shape"
   ]
  },
  {
   "cell_type": "code",
   "execution_count": 29,
   "id": "af53664c-bc5e-4797-b641-43e93cac17e9",
   "metadata": {},
   "outputs": [
    {
     "data": {
      "text/plain": [
       "(11287, 7)"
      ]
     },
     "execution_count": 29,
     "metadata": {},
     "output_type": "execute_result"
    }
   ],
   "source": [
    "# Remove outlier using inter-quartile range method\n",
    "new_estate['total_sqft'] = new_estate['total_sqft'].astype(int)\n",
    "q1 = new_estate['total_sqft'].quantile(0.25)\n",
    "q3 = new_estate['total_sqft'].quantile(0.75)\n",
    "iqr = q3 - q1\n",
    "lower_limit = q1 - 1.5*iqr\n",
    "upper_limit = q3 + 1.5*iqr\n",
    "new_estate = new_estate[(new_estate['total_sqft']>lower_limit) & (new_estate['total_sqft']<upper_limit)]\n",
    "new_estate.shape"
   ]
  },
  {
   "cell_type": "code",
   "execution_count": 30,
   "id": "88c336ca-efe4-4141-a1e1-aa98dfefa3ef",
   "metadata": {},
   "outputs": [
    {
     "data": {
      "image/png": "[encoded data removed]",
      "text/plain": [
       "<Figure size 640x480 with 1 Axes>"
      ]
     },
     "metadata": {},
     "output_type": "display_data"
    }
   ],
   "source": [
    "sns.boxplot(new_estate['total_sqft'])\n",
    "plt.show()\n",
    "\n",
    "# Outliers removed to some extent"
   ]
  },
  {
   "cell_type": "code",
   "execution_count": 31,
   "id": "7bfbbd3f-2bec-422e-a3b8-7eeefc371414",
   "metadata": {},
   "outputs": [
    {
     "data": {
      "image/png": "[encoded data removed]",
      "text/plain": [
       "<Figure size 640x480 with 1 Axes>"
      ]
     },
     "metadata": {},
     "output_type": "display_data"
    }
   ],
   "source": [
    "sns.boxplot(new_estate['bath'])\n",
    "plt.show()\n",
    "\n",
    "# We can clearly see outliers "
   ]
  },
  {
   "cell_type": "code",
   "execution_count": 32,
   "id": "7769c925-308e-4a62-a68c-543c1f5e1537",
   "metadata": {},
   "outputs": [
    {
     "data": {
      "text/plain": [
       "(11196, 7)"
      ]
     },
     "execution_count": 32,
     "metadata": {},
     "output_type": "execute_result"
    }
   ],
   "source": [
    "# Remove outlier using inter-quartile range method\n",
    "new_estate['bath'] = new_estate['bath'].astype(int)\n",
    "q1 = new_estate['bath'].quantile(0.25)\n",
    "q3 = new_estate['bath'].quantile(0.75)\n",
    "iqr = q3 - q1\n",
    "lower_limit = q1 - 1.5*iqr\n",
    "upper_limit = q3 + 1.5*iqr\n",
    "new_estate = new_estate[(new_estate['bath']>lower_limit) & (new_estate['bath']<upper_limit)]\n",
    "new_estate.shape"
   ]
  },
  {
   "cell_type": "code",
   "execution_count": 33,
   "id": "79cc863b-e84a-425b-b176-5ad5f23cd235",
   "metadata": {},
   "outputs": [
    {
     "data": {
      "image/png": "[encoded data removed]",
      "text/plain": [
       "<Figure size 640x480 with 1 Axes>"
      ]
     },
     "metadata": {},
     "output_type": "display_data"
    }
   ],
   "source": [
    "sns.boxplot(new_estate['bath'])\n",
    "plt.show()\n",
    "\n",
    "# Outliers removed"
   ]
  },
  {
   "cell_type": "code",
   "execution_count": 34,
   "id": "ece12792-5af7-47b8-8fc6-ae92d269c080",
   "metadata": {},
   "outputs": [
    {
     "data": {
      "text/html": [
       "<div>\n",
       "<style scoped>\n",
       "    .dataframe tbody tr th:only-of-type {\n",
       "        vertical-align: middle;\n",
       "    }\n",
       "\n",
       "    .dataframe tbody tr th {\n",
       "        vertical-align: top;\n",
       "    }\n",
       "\n",
       "    .dataframe thead th {\n",
       "        text-align: right;\n",
       "    }\n",
       "</style>\n",
       "<table border=\"1\" class=\"dataframe\">\n",
       "  <thead>\n",
       "    <tr style=\"text-align: right;\">\n",
       "      <th></th>\n",
       "      <th>area_type</th>\n",
       "      <th>location</th>\n",
       "      <th>size</th>\n",
       "      <th>total_sqft</th>\n",
       "      <th>bath</th>\n",
       "      <th>balcony</th>\n",
       "      <th>price</th>\n",
       "      <th>price_per_sqft</th>\n",
       "    </tr>\n",
       "  </thead>\n",
       "  <tbody>\n",
       "    <tr>\n",
       "      <th>0</th>\n",
       "      <td>Super built-up  Area</td>\n",
       "      <td>Alandi Road</td>\n",
       "      <td>2</td>\n",
       "      <td>1056</td>\n",
       "      <td>2</td>\n",
       "      <td>1.0</td>\n",
       "      <td>39.07</td>\n",
       "      <td>3699.810606</td>\n",
       "    </tr>\n",
       "    <tr>\n",
       "      <th>2</th>\n",
       "      <td>Built-up  Area</td>\n",
       "      <td>Anandnagar</td>\n",
       "      <td>3</td>\n",
       "      <td>1440</td>\n",
       "      <td>2</td>\n",
       "      <td>3.0</td>\n",
       "      <td>62.00</td>\n",
       "      <td>4305.555556</td>\n",
       "    </tr>\n",
       "    <tr>\n",
       "      <th>3</th>\n",
       "      <td>Super built-up  Area</td>\n",
       "      <td>Aundh</td>\n",
       "      <td>3</td>\n",
       "      <td>1521</td>\n",
       "      <td>3</td>\n",
       "      <td>1.0</td>\n",
       "      <td>95.00</td>\n",
       "      <td>6245.890861</td>\n",
       "    </tr>\n",
       "    <tr>\n",
       "      <th>4</th>\n",
       "      <td>Super built-up  Area</td>\n",
       "      <td>Aundh Road</td>\n",
       "      <td>2</td>\n",
       "      <td>1200</td>\n",
       "      <td>2</td>\n",
       "      <td>1.0</td>\n",
       "      <td>51.00</td>\n",
       "      <td>4250.000000</td>\n",
       "    </tr>\n",
       "    <tr>\n",
       "      <th>5</th>\n",
       "      <td>Super built-up  Area</td>\n",
       "      <td>Balaji Nagar</td>\n",
       "      <td>2</td>\n",
       "      <td>1170</td>\n",
       "      <td>2</td>\n",
       "      <td>1.0</td>\n",
       "      <td>38.00</td>\n",
       "      <td>3247.863248</td>\n",
       "    </tr>\n",
       "  </tbody>\n",
       "</table>\n",
       "</div>"
      ],
      "text/plain": [
       "              area_type      location  size  total_sqft  bath  balcony  price  \\\n",
       "0  Super built-up  Area   Alandi Road     2        1056     2      1.0  39.07   \n",
       "2        Built-up  Area    Anandnagar     3        1440     2      3.0  62.00   \n",
       "3  Super built-up  Area         Aundh     3        1521     3      1.0  95.00   \n",
       "4  Super built-up  Area    Aundh Road     2        1200     2      1.0  51.00   \n",
       "5  Super built-up  Area  Balaji Nagar     2        1170     2      1.0  38.00   \n",
       "\n",
       "   price_per_sqft  \n",
       "0     3699.810606  \n",
       "2     4305.555556  \n",
       "3     6245.890861  \n",
       "4     4250.000000  \n",
       "5     3247.863248  "
      ]
     },
     "execution_count": 34,
     "metadata": {},
     "output_type": "execute_result"
    }
   ],
   "source": [
    "new_estate['price_per_sqft'] = (new_estate['price'] * 100000) / new_estate['total_sqft']\n",
    "new_estate.head()"
   ]
  },
  {
   "cell_type": "code",
   "execution_count": 35,
   "id": "3f53f9cf-85c1-4442-be35-43a053dec014",
   "metadata": {},
   "outputs": [
    {
     "data": {
      "image/png": "[encoded data removed]",
      "text/plain": [
       "<Figure size 640x480 with 1 Axes>"
      ]
     },
     "metadata": {},
     "output_type": "display_data"
    }
   ],
   "source": [
    "sns.boxplot(new_estate['price_per_sqft'])\n",
    "plt.show()\n",
    "\n",
    "# We can clearly see outliers "
   ]
  },
  {
   "cell_type": "code",
   "execution_count": 36,
   "id": "3fa89864-b496-4759-a3e1-3bd52160c9b2",
   "metadata": {},
   "outputs": [
    {
     "data": {
      "text/plain": [
       "(10973, 8)"
      ]
     },
     "execution_count": 36,
     "metadata": {},
     "output_type": "execute_result"
    }
   ],
   "source": [
    "# Remove outlier using percentile method\n",
    "min_percentile = new_estate['price_per_sqft'].quantile(0.01)\n",
    "max_percentile = new_estate['price_per_sqft'].quantile(0.99)\n",
    "new_estate = new_estate[(new_estate['price_per_sqft']>=min_percentile) & (new_estate['price_per_sqft']<=max_percentile)]\n",
    "new_estate.shape"
   ]
  },
  {
   "cell_type": "code",
   "execution_count": 37,
   "id": "e53c13cd-3196-4e50-89f6-561de92d959a",
   "metadata": {},
   "outputs": [
    {
     "data": {
      "text/plain": [
       "(10250, 8)"
      ]
     },
     "execution_count": 37,
     "metadata": {},
     "output_type": "execute_result"
    }
   ],
   "source": [
    "# Remove outlier using inter-quartile range method\n",
    "new_estate['price_per_sqft'] = new_estate['price_per_sqft'].astype(int)\n",
    "q1 = new_estate['price_per_sqft'].quantile(0.25)\n",
    "q3 = new_estate['price_per_sqft'].quantile(0.75)\n",
    "iqr = q3 - q1\n",
    "lower_limit = q1 - 1.5*iqr\n",
    "upper_limit = q3 + 1.5*iqr\n",
    "new_estate = new_estate[(new_estate['price_per_sqft']>lower_limit) & (new_estate['price_per_sqft']<upper_limit)]\n",
    "new_estate.shape"
   ]
  },
  {
   "cell_type": "code",
   "execution_count": 38,
   "id": "61610562-120b-4b42-9a36-6c14554b95a0",
   "metadata": {},
   "outputs": [
    {
     "data": {
      "image/png": "[encoded data removed]",
      "text/plain": [
       "<Figure size 640x480 with 1 Axes>"
      ]
     },
     "metadata": {},
     "output_type": "display_data"
    }
   ],
   "source": [
    "sns.boxplot(new_estate['price_per_sqft'])\n",
    "plt.show()\n",
    "\n",
    "# Outliers removed to some extent"
   ]
  },
  {
   "cell_type": "code",
   "execution_count": 39,
   "id": "b679dd07-0299-4c74-a150-91b9b3a0aa39",
   "metadata": {},
   "outputs": [
    {
     "data": {
      "text/html": [
       "<div>\n",
       "<style scoped>\n",
       "    .dataframe tbody tr th:only-of-type {\n",
       "        vertical-align: middle;\n",
       "    }\n",
       "\n",
       "    .dataframe tbody tr th {\n",
       "        vertical-align: top;\n",
       "    }\n",
       "\n",
       "    .dataframe thead th {\n",
       "        text-align: right;\n",
       "    }\n",
       "</style>\n",
       "<table border=\"1\" class=\"dataframe\">\n",
       "  <thead>\n",
       "    <tr style=\"text-align: right;\">\n",
       "      <th></th>\n",
       "      <th>area_type</th>\n",
       "      <th>location</th>\n",
       "      <th>size</th>\n",
       "      <th>total_sqft</th>\n",
       "      <th>bath</th>\n",
       "      <th>balcony</th>\n",
       "      <th>price</th>\n",
       "      <th>price_per_sqft</th>\n",
       "      <th>bedroom_price_per_sqft</th>\n",
       "    </tr>\n",
       "  </thead>\n",
       "  <tbody>\n",
       "    <tr>\n",
       "      <th>0</th>\n",
       "      <td>Super built-up  Area</td>\n",
       "      <td>Alandi Road</td>\n",
       "      <td>2</td>\n",
       "      <td>1056</td>\n",
       "      <td>2</td>\n",
       "      <td>1.0</td>\n",
       "      <td>39.07</td>\n",
       "      <td>3699</td>\n",
       "      <td>528.0</td>\n",
       "    </tr>\n",
       "    <tr>\n",
       "      <th>2</th>\n",
       "      <td>Built-up  Area</td>\n",
       "      <td>Anandnagar</td>\n",
       "      <td>3</td>\n",
       "      <td>1440</td>\n",
       "      <td>2</td>\n",
       "      <td>3.0</td>\n",
       "      <td>62.00</td>\n",
       "      <td>4305</td>\n",
       "      <td>480.0</td>\n",
       "    </tr>\n",
       "    <tr>\n",
       "      <th>3</th>\n",
       "      <td>Super built-up  Area</td>\n",
       "      <td>Aundh</td>\n",
       "      <td>3</td>\n",
       "      <td>1521</td>\n",
       "      <td>3</td>\n",
       "      <td>1.0</td>\n",
       "      <td>95.00</td>\n",
       "      <td>6245</td>\n",
       "      <td>507.0</td>\n",
       "    </tr>\n",
       "    <tr>\n",
       "      <th>4</th>\n",
       "      <td>Super built-up  Area</td>\n",
       "      <td>Aundh Road</td>\n",
       "      <td>2</td>\n",
       "      <td>1200</td>\n",
       "      <td>2</td>\n",
       "      <td>1.0</td>\n",
       "      <td>51.00</td>\n",
       "      <td>4250</td>\n",
       "      <td>600.0</td>\n",
       "    </tr>\n",
       "    <tr>\n",
       "      <th>5</th>\n",
       "      <td>Super built-up  Area</td>\n",
       "      <td>Balaji Nagar</td>\n",
       "      <td>2</td>\n",
       "      <td>1170</td>\n",
       "      <td>2</td>\n",
       "      <td>1.0</td>\n",
       "      <td>38.00</td>\n",
       "      <td>3247</td>\n",
       "      <td>585.0</td>\n",
       "    </tr>\n",
       "  </tbody>\n",
       "</table>\n",
       "</div>"
      ],
      "text/plain": [
       "              area_type      location  size  total_sqft  bath  balcony  price  \\\n",
       "0  Super built-up  Area   Alandi Road     2        1056     2      1.0  39.07   \n",
       "2        Built-up  Area    Anandnagar     3        1440     2      3.0  62.00   \n",
       "3  Super built-up  Area         Aundh     3        1521     3      1.0  95.00   \n",
       "4  Super built-up  Area    Aundh Road     2        1200     2      1.0  51.00   \n",
       "5  Super built-up  Area  Balaji Nagar     2        1170     2      1.0  38.00   \n",
       "\n",
       "   price_per_sqft  bedroom_price_per_sqft  \n",
       "0            3699                   528.0  \n",
       "2            4305                   480.0  \n",
       "3            6245                   507.0  \n",
       "4            4250                   600.0  \n",
       "5            3247                   585.0  "
      ]
     },
     "execution_count": 39,
     "metadata": {},
     "output_type": "execute_result"
    }
   ],
   "source": [
    "new_estate['bedroom_price_per_sqft'] = (new_estate['total_sqft'] / new_estate['size'])\n",
    "new_estate.head()"
   ]
  },
  {
   "cell_type": "code",
   "execution_count": 40,
   "id": "86aba6f7-3feb-47fd-abe9-ddcfb1ba8bdf",
   "metadata": {},
   "outputs": [
    {
     "data": {
      "image/png": "[encoded data removed]",
      "text/plain": [
       "<Figure size 640x480 with 1 Axes>"
      ]
     },
     "metadata": {},
     "output_type": "display_data"
    }
   ],
   "source": [
    "sns.boxplot(new_estate['bedroom_price_per_sqft'])\n",
    "plt.show()\n",
    "\n",
    "# We can clearly see outliers "
   ]
  },
  {
   "cell_type": "code",
   "execution_count": 41,
   "id": "9e45779b-59ea-4eff-b538-0c62500203a3",
   "metadata": {},
   "outputs": [
    {
     "data": {
      "text/plain": [
       "(10054, 9)"
      ]
     },
     "execution_count": 41,
     "metadata": {},
     "output_type": "execute_result"
    }
   ],
   "source": [
    "# Remove outlier using percentile method\n",
    "min_percentile = new_estate['bedroom_price_per_sqft'].quantile(0.01)\n",
    "max_percentile = new_estate['bedroom_price_per_sqft'].quantile(0.99)\n",
    "new_estate = new_estate[(new_estate['bedroom_price_per_sqft']>=min_percentile) & (new_estate['bedroom_price_per_sqft']<=max_percentile)]\n",
    "new_estate.shape"
   ]
  },
  {
   "cell_type": "code",
   "execution_count": 42,
   "id": "ce6e2600-53f5-491f-8093-324ebbb94043",
   "metadata": {},
   "outputs": [
    {
     "data": {
      "text/plain": [
       "(9841, 9)"
      ]
     },
     "execution_count": 42,
     "metadata": {},
     "output_type": "execute_result"
    }
   ],
   "source": [
    "# Remove outlier using inter-quartile range method\n",
    "new_estate['bedroom_price_per_sqft'] = new_estate['bedroom_price_per_sqft'].astype(int)\n",
    "q1 = new_estate['bedroom_price_per_sqft'].quantile(0.25)\n",
    "q3 = new_estate['bedroom_price_per_sqft'].quantile(0.75)\n",
    "iqr = q3 - q1\n",
    "lower_limit = q1 - 1.5*iqr\n",
    "upper_limit = q3 + 1.5*iqr\n",
    "new_estate = new_estate[(new_estate['bedroom_price_per_sqft']>lower_limit) & (new_estate['bedroom_price_per_sqft']<upper_limit)]\n",
    "new_estate.shape"
   ]
  },
  {
   "cell_type": "code",
   "execution_count": 43,
   "id": "55cebae9-75c6-4f78-9a9c-9bba8a87604d",
   "metadata": {},
   "outputs": [
    {
     "data": {
      "image/png": "[encoded data removed]",
      "text/plain": [
       "<Figure size 640x480 with 1 Axes>"
      ]
     },
     "metadata": {},
     "output_type": "display_data"
    }
   ],
   "source": [
    "sns.boxplot(new_estate['bedroom_price_per_sqft'])\n",
    "plt.show()\n",
    "\n",
    "# Outliers removed to some extent"
   ]
  },
  {
   "cell_type": "code",
   "execution_count": 44,
   "id": "da980e5b-3dbc-4df3-8d6a-e7daba2c4064",
   "metadata": {},
   "outputs": [
    {
     "data": {
      "text/html": [
       "<div>\n",
       "<style scoped>\n",
       "    .dataframe tbody tr th:only-of-type {\n",
       "        vertical-align: middle;\n",
       "    }\n",
       "\n",
       "    .dataframe tbody tr th {\n",
       "        vertical-align: top;\n",
       "    }\n",
       "\n",
       "    .dataframe thead th {\n",
       "        text-align: right;\n",
       "    }\n",
       "</style>\n",
       "<table border=\"1\" class=\"dataframe\">\n",
       "  <thead>\n",
       "    <tr style=\"text-align: right;\">\n",
       "      <th></th>\n",
       "      <th>area_type</th>\n",
       "      <th>location</th>\n",
       "      <th>size</th>\n",
       "      <th>total_sqft</th>\n",
       "      <th>bath</th>\n",
       "      <th>balcony</th>\n",
       "      <th>price</th>\n",
       "      <th>price_per_sqft</th>\n",
       "      <th>bedroom_price_per_sqft</th>\n",
       "      <th>bath_price_per_sqft</th>\n",
       "    </tr>\n",
       "  </thead>\n",
       "  <tbody>\n",
       "    <tr>\n",
       "      <th>0</th>\n",
       "      <td>Super built-up  Area</td>\n",
       "      <td>Alandi Road</td>\n",
       "      <td>2</td>\n",
       "      <td>1056</td>\n",
       "      <td>2</td>\n",
       "      <td>1.0</td>\n",
       "      <td>39.07</td>\n",
       "      <td>3699</td>\n",
       "      <td>528</td>\n",
       "      <td>528.0</td>\n",
       "    </tr>\n",
       "    <tr>\n",
       "      <th>2</th>\n",
       "      <td>Built-up  Area</td>\n",
       "      <td>Anandnagar</td>\n",
       "      <td>3</td>\n",
       "      <td>1440</td>\n",
       "      <td>2</td>\n",
       "      <td>3.0</td>\n",
       "      <td>62.00</td>\n",
       "      <td>4305</td>\n",
       "      <td>480</td>\n",
       "      <td>720.0</td>\n",
       "    </tr>\n",
       "    <tr>\n",
       "      <th>3</th>\n",
       "      <td>Super built-up  Area</td>\n",
       "      <td>Aundh</td>\n",
       "      <td>3</td>\n",
       "      <td>1521</td>\n",
       "      <td>3</td>\n",
       "      <td>1.0</td>\n",
       "      <td>95.00</td>\n",
       "      <td>6245</td>\n",
       "      <td>507</td>\n",
       "      <td>507.0</td>\n",
       "    </tr>\n",
       "    <tr>\n",
       "      <th>4</th>\n",
       "      <td>Super built-up  Area</td>\n",
       "      <td>Aundh Road</td>\n",
       "      <td>2</td>\n",
       "      <td>1200</td>\n",
       "      <td>2</td>\n",
       "      <td>1.0</td>\n",
       "      <td>51.00</td>\n",
       "      <td>4250</td>\n",
       "      <td>600</td>\n",
       "      <td>600.0</td>\n",
       "    </tr>\n",
       "    <tr>\n",
       "      <th>5</th>\n",
       "      <td>Super built-up  Area</td>\n",
       "      <td>Balaji Nagar</td>\n",
       "      <td>2</td>\n",
       "      <td>1170</td>\n",
       "      <td>2</td>\n",
       "      <td>1.0</td>\n",
       "      <td>38.00</td>\n",
       "      <td>3247</td>\n",
       "      <td>585</td>\n",
       "      <td>585.0</td>\n",
       "    </tr>\n",
       "  </tbody>\n",
       "</table>\n",
       "</div>"
      ],
      "text/plain": [
       "              area_type      location  size  total_sqft  bath  balcony  price  \\\n",
       "0  Super built-up  Area   Alandi Road     2        1056     2      1.0  39.07   \n",
       "2        Built-up  Area    Anandnagar     3        1440     2      3.0  62.00   \n",
       "3  Super built-up  Area         Aundh     3        1521     3      1.0  95.00   \n",
       "4  Super built-up  Area    Aundh Road     2        1200     2      1.0  51.00   \n",
       "5  Super built-up  Area  Balaji Nagar     2        1170     2      1.0  38.00   \n",
       "\n",
       "   price_per_sqft  bedroom_price_per_sqft  bath_price_per_sqft  \n",
       "0            3699                     528                528.0  \n",
       "2            4305                     480                720.0  \n",
       "3            6245                     507                507.0  \n",
       "4            4250                     600                600.0  \n",
       "5            3247                     585                585.0  "
      ]
     },
     "execution_count": 44,
     "metadata": {},
     "output_type": "execute_result"
    }
   ],
   "source": [
    "new_estate['bath_price_per_sqft'] = (new_estate['total_sqft'] / new_estate['bath'])\n",
    "new_estate.head()"
   ]
  },
  {
   "cell_type": "code",
   "execution_count": 45,
   "id": "a84603d2-7a66-45b3-a5b9-e41a33debdbe",
   "metadata": {},
   "outputs": [
    {
     "data": {
      "image/png": "[encoded data removed]",
      "text/plain": [
       "<Figure size 640x480 with 1 Axes>"
      ]
     },
     "metadata": {},
     "output_type": "display_data"
    }
   ],
   "source": [
    "sns.boxplot(new_estate['bath_price_per_sqft'])\n",
    "plt.show()\n",
    "\n",
    "# We can clearly see outliers "
   ]
  },
  {
   "cell_type": "code",
   "execution_count": 46,
   "id": "3bf4c63e-730b-480e-a561-3964296d5e63",
   "metadata": {},
   "outputs": [
    {
     "data": {
      "text/plain": [
       "(9651, 10)"
      ]
     },
     "execution_count": 46,
     "metadata": {},
     "output_type": "execute_result"
    }
   ],
   "source": [
    "# Remove outlier using percentile method\n",
    "min_percentile = new_estate['bath_price_per_sqft'].quantile(0.01)\n",
    "max_percentile = new_estate['bath_price_per_sqft'].quantile(0.99)\n",
    "new_estate = new_estate[(new_estate['bath_price_per_sqft']>=min_percentile) & (new_estate['bath_price_per_sqft']<=max_percentile)]\n",
    "new_estate.shape"
   ]
  },
  {
   "cell_type": "code",
   "execution_count": 47,
   "id": "58ba057c-69db-4310-841f-19fbad2ea8a8",
   "metadata": {},
   "outputs": [
    {
     "data": {
      "text/plain": [
       "(9538, 10)"
      ]
     },
     "execution_count": 47,
     "metadata": {},
     "output_type": "execute_result"
    }
   ],
   "source": [
    "# Remove outlier using inter-quartile range method\n",
    "new_estate['bath_price_per_sqft'] = new_estate['bath_price_per_sqft'].astype(int)\n",
    "q1 = new_estate['bath_price_per_sqft'].quantile(0.25)\n",
    "q3 = new_estate['bath_price_per_sqft'].quantile(0.75)\n",
    "iqr = q3 - q1\n",
    "lower_limit = q1 - 1.5*iqr\n",
    "upper_limit = q3 + 1.5*iqr\n",
    "new_estate = new_estate[(new_estate['bath_price_per_sqft']>lower_limit) & (new_estate['bath_price_per_sqft']<upper_limit)]\n",
    "new_estate.shape"
   ]
  },
  {
   "cell_type": "code",
   "execution_count": 48,
   "id": "3d728832-852a-438a-96a5-1ae5ff558dd3",
   "metadata": {},
   "outputs": [
    {
     "data": {
      "image/png": "[encoded data removed]",
      "text/plain": [
       "<Figure size 640x480 with 1 Axes>"
      ]
     },
     "metadata": {},
     "output_type": "display_data"
    }
   ],
   "source": [
    "sns.boxplot(new_estate['bath_price_per_sqft'])\n",
    "plt.show()\n",
    "\n",
    "# Outliers removed to some extent"
   ]
  },
  {
   "cell_type": "code",
   "execution_count": 49,
   "id": "50d88525-a664-4e70-b140-4111ba2bc11f",
   "metadata": {},
   "outputs": [
    {
     "data": {
      "text/html": [
       "<div>\n",
       "<style scoped>\n",
       "    .dataframe tbody tr th:only-of-type {\n",
       "        vertical-align: middle;\n",
       "    }\n",
       "\n",
       "    .dataframe tbody tr th {\n",
       "        vertical-align: top;\n",
       "    }\n",
       "\n",
       "    .dataframe thead th {\n",
       "        text-align: right;\n",
       "    }\n",
       "</style>\n",
       "<table border=\"1\" class=\"dataframe\">\n",
       "  <thead>\n",
       "    <tr style=\"text-align: right;\">\n",
       "      <th></th>\n",
       "      <th>area_type</th>\n",
       "      <th>location</th>\n",
       "      <th>size</th>\n",
       "      <th>total_sqft</th>\n",
       "      <th>bath</th>\n",
       "      <th>balcony</th>\n",
       "      <th>price</th>\n",
       "      <th>price_per_sqft</th>\n",
       "      <th>bedroom_price_per_sqft</th>\n",
       "      <th>bath_price_per_sqft</th>\n",
       "      <th>balcony_price_per_sqft</th>\n",
       "    </tr>\n",
       "  </thead>\n",
       "  <tbody>\n",
       "    <tr>\n",
       "      <th>0</th>\n",
       "      <td>Super built-up  Area</td>\n",
       "      <td>Alandi Road</td>\n",
       "      <td>2</td>\n",
       "      <td>1056</td>\n",
       "      <td>2</td>\n",
       "      <td>1.0</td>\n",
       "      <td>39.07</td>\n",
       "      <td>3699</td>\n",
       "      <td>528</td>\n",
       "      <td>528</td>\n",
       "      <td>1056.0</td>\n",
       "    </tr>\n",
       "    <tr>\n",
       "      <th>2</th>\n",
       "      <td>Built-up  Area</td>\n",
       "      <td>Anandnagar</td>\n",
       "      <td>3</td>\n",
       "      <td>1440</td>\n",
       "      <td>2</td>\n",
       "      <td>3.0</td>\n",
       "      <td>62.00</td>\n",
       "      <td>4305</td>\n",
       "      <td>480</td>\n",
       "      <td>720</td>\n",
       "      <td>480.0</td>\n",
       "    </tr>\n",
       "    <tr>\n",
       "      <th>3</th>\n",
       "      <td>Super built-up  Area</td>\n",
       "      <td>Aundh</td>\n",
       "      <td>3</td>\n",
       "      <td>1521</td>\n",
       "      <td>3</td>\n",
       "      <td>1.0</td>\n",
       "      <td>95.00</td>\n",
       "      <td>6245</td>\n",
       "      <td>507</td>\n",
       "      <td>507</td>\n",
       "      <td>1521.0</td>\n",
       "    </tr>\n",
       "    <tr>\n",
       "      <th>4</th>\n",
       "      <td>Super built-up  Area</td>\n",
       "      <td>Aundh Road</td>\n",
       "      <td>2</td>\n",
       "      <td>1200</td>\n",
       "      <td>2</td>\n",
       "      <td>1.0</td>\n",
       "      <td>51.00</td>\n",
       "      <td>4250</td>\n",
       "      <td>600</td>\n",
       "      <td>600</td>\n",
       "      <td>1200.0</td>\n",
       "    </tr>\n",
       "    <tr>\n",
       "      <th>5</th>\n",
       "      <td>Super built-up  Area</td>\n",
       "      <td>Balaji Nagar</td>\n",
       "      <td>2</td>\n",
       "      <td>1170</td>\n",
       "      <td>2</td>\n",
       "      <td>1.0</td>\n",
       "      <td>38.00</td>\n",
       "      <td>3247</td>\n",
       "      <td>585</td>\n",
       "      <td>585</td>\n",
       "      <td>1170.0</td>\n",
       "    </tr>\n",
       "  </tbody>\n",
       "</table>\n",
       "</div>"
      ],
      "text/plain": [
       "              area_type      location  size  total_sqft  bath  balcony  price  \\\n",
       "0  Super built-up  Area   Alandi Road     2        1056     2      1.0  39.07   \n",
       "2        Built-up  Area    Anandnagar     3        1440     2      3.0  62.00   \n",
       "3  Super built-up  Area         Aundh     3        1521     3      1.0  95.00   \n",
       "4  Super built-up  Area    Aundh Road     2        1200     2      1.0  51.00   \n",
       "5  Super built-up  Area  Balaji Nagar     2        1170     2      1.0  38.00   \n",
       "\n",
       "   price_per_sqft  bedroom_price_per_sqft  bath_price_per_sqft  \\\n",
       "0            3699                     528                  528   \n",
       "2            4305                     480                  720   \n",
       "3            6245                     507                  507   \n",
       "4            4250                     600                  600   \n",
       "5            3247                     585                  585   \n",
       "\n",
       "   balcony_price_per_sqft  \n",
       "0                  1056.0  \n",
       "2                   480.0  \n",
       "3                  1521.0  \n",
       "4                  1200.0  \n",
       "5                  1170.0  "
      ]
     },
     "execution_count": 49,
     "metadata": {},
     "output_type": "execute_result"
    }
   ],
   "source": [
    "new_estate.loc[:,'balcony_price_per_sqft'] = (new_estate['total_sqft'] / new_estate['balcony'])\n",
    "new_estate.head()"
   ]
  },
  {
   "cell_type": "code",
   "execution_count": 50,
   "id": "b5149414-7103-4e72-baf8-bcfa4c695c43",
   "metadata": {},
   "outputs": [
    {
     "data": {
      "image/png": "[encoded data removed]",
      "text/plain": [
       "<Figure size 640x480 with 1 Axes>"
      ]
     },
     "metadata": {},
     "output_type": "display_data"
    }
   ],
   "source": [
    "sns.boxplot(new_estate['balcony_price_per_sqft'])\n",
    "plt.show()\n",
    "\n",
    "# We can clearly see outliers "
   ]
  },
  {
   "cell_type": "code",
   "execution_count": 51,
   "id": "9ad4814d-1238-4145-8f07-46e2055eaada",
   "metadata": {},
   "outputs": [
    {
     "data": {
      "text/plain": [
       "(8951, 11)"
      ]
     },
     "execution_count": 51,
     "metadata": {},
     "output_type": "execute_result"
    }
   ],
   "source": [
    "# Remove outlier using inter-quartile range method\n",
    "q1 = new_estate['balcony_price_per_sqft'].quantile(0.25)\n",
    "q3 = new_estate['balcony_price_per_sqft'].quantile(0.75)\n",
    "iqr = q3 - q1\n",
    "lower_limit = q1 - 1.5*iqr\n",
    "upper_limit = q3 + 1.5*iqr\n",
    "new_estate = new_estate[(new_estate['balcony_price_per_sqft']>lower_limit) & (new_estate['balcony_price_per_sqft']<upper_limit)]\n",
    "new_estate.shape"
   ]
  },
  {
   "cell_type": "code",
   "execution_count": 52,
   "id": "838f93d9-8f69-43ef-acb0-ec41a4ee302f",
   "metadata": {},
   "outputs": [
    {
     "data": {
      "image/png": "[encoded data removed]",
      "text/plain": [
       "<Figure size 640x480 with 1 Axes>"
      ]
     },
     "metadata": {},
     "output_type": "display_data"
    }
   ],
   "source": [
    "sns.boxplot(new_estate['balcony_price_per_sqft'])\n",
    "plt.show()\n",
    "\n",
    "# Outliers removed to some extent"
   ]
  },
  {
   "cell_type": "markdown",
   "id": "f915f95f-468c-40de-a9b9-01ef7ada8536",
   "metadata": {},
   "source": [
    "#### Now let's build the model"
   ]
  },
  {
   "cell_type": "code",
   "execution_count": 53,
   "id": "4ce67080-a9e6-4b1b-bf82-5166a2feb4ec",
   "metadata": {},
   "outputs": [
    {
     "data": {
      "text/html": [
       "<div>\n",
       "<style scoped>\n",
       "    .dataframe tbody tr th:only-of-type {\n",
       "        vertical-align: middle;\n",
       "    }\n",
       "\n",
       "    .dataframe tbody tr th {\n",
       "        vertical-align: top;\n",
       "    }\n",
       "\n",
       "    .dataframe thead th {\n",
       "        text-align: right;\n",
       "    }\n",
       "</style>\n",
       "<table border=\"1\" class=\"dataframe\">\n",
       "  <thead>\n",
       "    <tr style=\"text-align: right;\">\n",
       "      <th></th>\n",
       "      <th>area_type</th>\n",
       "      <th>location</th>\n",
       "      <th>size</th>\n",
       "      <th>total_sqft</th>\n",
       "      <th>bath</th>\n",
       "      <th>balcony</th>\n",
       "      <th>price</th>\n",
       "      <th>price_per_sqft</th>\n",
       "      <th>bedroom_price_per_sqft</th>\n",
       "      <th>bath_price_per_sqft</th>\n",
       "      <th>balcony_price_per_sqft</th>\n",
       "      <th>Built-up  Area</th>\n",
       "      <th>Carpet  Area</th>\n",
       "      <th>Plot  Area</th>\n",
       "      <th>Super built-up  Area</th>\n",
       "    </tr>\n",
       "  </thead>\n",
       "  <tbody>\n",
       "    <tr>\n",
       "      <th>0</th>\n",
       "      <td>Super built-up  Area</td>\n",
       "      <td>Alandi Road</td>\n",
       "      <td>2</td>\n",
       "      <td>1056</td>\n",
       "      <td>2</td>\n",
       "      <td>1.0</td>\n",
       "      <td>39.07</td>\n",
       "      <td>3699</td>\n",
       "      <td>528</td>\n",
       "      <td>528</td>\n",
       "      <td>1056.0</td>\n",
       "      <td>0</td>\n",
       "      <td>0</td>\n",
       "      <td>0</td>\n",
       "      <td>1</td>\n",
       "    </tr>\n",
       "    <tr>\n",
       "      <th>2</th>\n",
       "      <td>Built-up  Area</td>\n",
       "      <td>Anandnagar</td>\n",
       "      <td>3</td>\n",
       "      <td>1440</td>\n",
       "      <td>2</td>\n",
       "      <td>3.0</td>\n",
       "      <td>62.00</td>\n",
       "      <td>4305</td>\n",
       "      <td>480</td>\n",
       "      <td>720</td>\n",
       "      <td>480.0</td>\n",
       "      <td>1</td>\n",
       "      <td>0</td>\n",
       "      <td>0</td>\n",
       "      <td>0</td>\n",
       "    </tr>\n",
       "    <tr>\n",
       "      <th>3</th>\n",
       "      <td>Super built-up  Area</td>\n",
       "      <td>Aundh</td>\n",
       "      <td>3</td>\n",
       "      <td>1521</td>\n",
       "      <td>3</td>\n",
       "      <td>1.0</td>\n",
       "      <td>95.00</td>\n",
       "      <td>6245</td>\n",
       "      <td>507</td>\n",
       "      <td>507</td>\n",
       "      <td>1521.0</td>\n",
       "      <td>0</td>\n",
       "      <td>0</td>\n",
       "      <td>0</td>\n",
       "      <td>1</td>\n",
       "    </tr>\n",
       "    <tr>\n",
       "      <th>4</th>\n",
       "      <td>Super built-up  Area</td>\n",
       "      <td>Aundh Road</td>\n",
       "      <td>2</td>\n",
       "      <td>1200</td>\n",
       "      <td>2</td>\n",
       "      <td>1.0</td>\n",
       "      <td>51.00</td>\n",
       "      <td>4250</td>\n",
       "      <td>600</td>\n",
       "      <td>600</td>\n",
       "      <td>1200.0</td>\n",
       "      <td>0</td>\n",
       "      <td>0</td>\n",
       "      <td>0</td>\n",
       "      <td>1</td>\n",
       "    </tr>\n",
       "    <tr>\n",
       "      <th>5</th>\n",
       "      <td>Super built-up  Area</td>\n",
       "      <td>Balaji Nagar</td>\n",
       "      <td>2</td>\n",
       "      <td>1170</td>\n",
       "      <td>2</td>\n",
       "      <td>1.0</td>\n",
       "      <td>38.00</td>\n",
       "      <td>3247</td>\n",
       "      <td>585</td>\n",
       "      <td>585</td>\n",
       "      <td>1170.0</td>\n",
       "      <td>0</td>\n",
       "      <td>0</td>\n",
       "      <td>0</td>\n",
       "      <td>1</td>\n",
       "    </tr>\n",
       "  </tbody>\n",
       "</table>\n",
       "</div>"
      ],
      "text/plain": [
       "              area_type      location  size  total_sqft  bath  balcony  price  \\\n",
       "0  Super built-up  Area   Alandi Road     2        1056     2      1.0  39.07   \n",
       "2        Built-up  Area    Anandnagar     3        1440     2      3.0  62.00   \n",
       "3  Super built-up  Area         Aundh     3        1521     3      1.0  95.00   \n",
       "4  Super built-up  Area    Aundh Road     2        1200     2      1.0  51.00   \n",
       "5  Super built-up  Area  Balaji Nagar     2        1170     2      1.0  38.00   \n",
       "\n",
       "   price_per_sqft  bedroom_price_per_sqft  bath_price_per_sqft  \\\n",
       "0            3699                     528                  528   \n",
       "2            4305                     480                  720   \n",
       "3            6245                     507                  507   \n",
       "4            4250                     600                  600   \n",
       "5            3247                     585                  585   \n",
       "\n",
       "   balcony_price_per_sqft  Built-up  Area  Carpet  Area  Plot  Area  \\\n",
       "0                  1056.0               0             0           0   \n",
       "2                   480.0               1             0           0   \n",
       "3                  1521.0               0             0           0   \n",
       "4                  1200.0               0             0           0   \n",
       "5                  1170.0               0             0           0   \n",
       "\n",
       "   Super built-up  Area  \n",
       "0                     1  \n",
       "2                     0  \n",
       "3                     1  \n",
       "4                     1  \n",
       "5                     1  "
      ]
     },
     "execution_count": 53,
     "metadata": {},
     "output_type": "execute_result"
    }
   ],
   "source": [
    "dummies = pd.get_dummies(new_estate['area_type']).astype(int)\n",
    "new_estate = pd.concat([new_estate,dummies],axis='columns')\n",
    "new_estate.head()"
   ]
  },
  {
   "cell_type": "code",
   "execution_count": 54,
   "id": "bb0e8b43-9a94-4de5-83af-0fcfda5a97c3",
   "metadata": {},
   "outputs": [
    {
     "data": {
      "text/html": [
       "<div>\n",
       "<style scoped>\n",
       "    .dataframe tbody tr th:only-of-type {\n",
       "        vertical-align: middle;\n",
       "    }\n",
       "\n",
       "    .dataframe tbody tr th {\n",
       "        vertical-align: top;\n",
       "    }\n",
       "\n",
       "    .dataframe thead th {\n",
       "        text-align: right;\n",
       "    }\n",
       "</style>\n",
       "<table border=\"1\" class=\"dataframe\">\n",
       "  <thead>\n",
       "    <tr style=\"text-align: right;\">\n",
       "      <th></th>\n",
       "      <th>area_type</th>\n",
       "      <th>location</th>\n",
       "      <th>size</th>\n",
       "      <th>total_sqft</th>\n",
       "      <th>bath</th>\n",
       "      <th>balcony</th>\n",
       "      <th>price</th>\n",
       "      <th>price_per_sqft</th>\n",
       "      <th>bedroom_price_per_sqft</th>\n",
       "      <th>bath_price_per_sqft</th>\n",
       "      <th>...</th>\n",
       "      <th>Vadgaon Budruk</th>\n",
       "      <th>Viman Nagar</th>\n",
       "      <th>Vishrant Wadi</th>\n",
       "      <th>Wadgaon Sheri</th>\n",
       "      <th>Wagholi</th>\n",
       "      <th>Wakadewadi</th>\n",
       "      <th>Wanowrie</th>\n",
       "      <th>Warje</th>\n",
       "      <th>Yerawada</th>\n",
       "      <th>other</th>\n",
       "    </tr>\n",
       "  </thead>\n",
       "  <tbody>\n",
       "    <tr>\n",
       "      <th>0</th>\n",
       "      <td>Super built-up  Area</td>\n",
       "      <td>Alandi Road</td>\n",
       "      <td>2</td>\n",
       "      <td>1056</td>\n",
       "      <td>2</td>\n",
       "      <td>1.0</td>\n",
       "      <td>39.07</td>\n",
       "      <td>3699</td>\n",
       "      <td>528</td>\n",
       "      <td>528</td>\n",
       "      <td>...</td>\n",
       "      <td>0</td>\n",
       "      <td>0</td>\n",
       "      <td>0</td>\n",
       "      <td>0</td>\n",
       "      <td>0</td>\n",
       "      <td>0</td>\n",
       "      <td>0</td>\n",
       "      <td>0</td>\n",
       "      <td>0</td>\n",
       "      <td>0</td>\n",
       "    </tr>\n",
       "    <tr>\n",
       "      <th>2</th>\n",
       "      <td>Built-up  Area</td>\n",
       "      <td>Anandnagar</td>\n",
       "      <td>3</td>\n",
       "      <td>1440</td>\n",
       "      <td>2</td>\n",
       "      <td>3.0</td>\n",
       "      <td>62.00</td>\n",
       "      <td>4305</td>\n",
       "      <td>480</td>\n",
       "      <td>720</td>\n",
       "      <td>...</td>\n",
       "      <td>0</td>\n",
       "      <td>0</td>\n",
       "      <td>0</td>\n",
       "      <td>0</td>\n",
       "      <td>0</td>\n",
       "      <td>0</td>\n",
       "      <td>0</td>\n",
       "      <td>0</td>\n",
       "      <td>0</td>\n",
       "      <td>0</td>\n",
       "    </tr>\n",
       "    <tr>\n",
       "      <th>3</th>\n",
       "      <td>Super built-up  Area</td>\n",
       "      <td>Aundh</td>\n",
       "      <td>3</td>\n",
       "      <td>1521</td>\n",
       "      <td>3</td>\n",
       "      <td>1.0</td>\n",
       "      <td>95.00</td>\n",
       "      <td>6245</td>\n",
       "      <td>507</td>\n",
       "      <td>507</td>\n",
       "      <td>...</td>\n",
       "      <td>0</td>\n",
       "      <td>0</td>\n",
       "      <td>0</td>\n",
       "      <td>0</td>\n",
       "      <td>0</td>\n",
       "      <td>0</td>\n",
       "      <td>0</td>\n",
       "      <td>0</td>\n",
       "      <td>0</td>\n",
       "      <td>0</td>\n",
       "    </tr>\n",
       "    <tr>\n",
       "      <th>4</th>\n",
       "      <td>Super built-up  Area</td>\n",
       "      <td>Aundh Road</td>\n",
       "      <td>2</td>\n",
       "      <td>1200</td>\n",
       "      <td>2</td>\n",
       "      <td>1.0</td>\n",
       "      <td>51.00</td>\n",
       "      <td>4250</td>\n",
       "      <td>600</td>\n",
       "      <td>600</td>\n",
       "      <td>...</td>\n",
       "      <td>0</td>\n",
       "      <td>0</td>\n",
       "      <td>0</td>\n",
       "      <td>0</td>\n",
       "      <td>0</td>\n",
       "      <td>0</td>\n",
       "      <td>0</td>\n",
       "      <td>0</td>\n",
       "      <td>0</td>\n",
       "      <td>0</td>\n",
       "    </tr>\n",
       "    <tr>\n",
       "      <th>5</th>\n",
       "      <td>Super built-up  Area</td>\n",
       "      <td>Balaji Nagar</td>\n",
       "      <td>2</td>\n",
       "      <td>1170</td>\n",
       "      <td>2</td>\n",
       "      <td>1.0</td>\n",
       "      <td>38.00</td>\n",
       "      <td>3247</td>\n",
       "      <td>585</td>\n",
       "      <td>585</td>\n",
       "      <td>...</td>\n",
       "      <td>0</td>\n",
       "      <td>0</td>\n",
       "      <td>0</td>\n",
       "      <td>0</td>\n",
       "      <td>0</td>\n",
       "      <td>0</td>\n",
       "      <td>0</td>\n",
       "      <td>0</td>\n",
       "      <td>0</td>\n",
       "      <td>0</td>\n",
       "    </tr>\n",
       "  </tbody>\n",
       "</table>\n",
       "<p>5 rows × 112 columns</p>\n",
       "</div>"
      ],
      "text/plain": [
       "              area_type      location  size  total_sqft  bath  balcony  price  \\\n",
       "0  Super built-up  Area   Alandi Road     2        1056     2      1.0  39.07   \n",
       "2        Built-up  Area    Anandnagar     3        1440     2      3.0  62.00   \n",
       "3  Super built-up  Area         Aundh     3        1521     3      1.0  95.00   \n",
       "4  Super built-up  Area    Aundh Road     2        1200     2      1.0  51.00   \n",
       "5  Super built-up  Area  Balaji Nagar     2        1170     2      1.0  38.00   \n",
       "\n",
       "   price_per_sqft  bedroom_price_per_sqft  bath_price_per_sqft  ...  \\\n",
       "0            3699                     528                  528  ...   \n",
       "2            4305                     480                  720  ...   \n",
       "3            6245                     507                  507  ...   \n",
       "4            4250                     600                  600  ...   \n",
       "5            3247                     585                  585  ...   \n",
       "\n",
       "   Vadgaon Budruk  Viman Nagar  Vishrant Wadi  Wadgaon Sheri  Wagholi  \\\n",
       "0               0            0              0              0        0   \n",
       "2               0            0              0              0        0   \n",
       "3               0            0              0              0        0   \n",
       "4               0            0              0              0        0   \n",
       "5               0            0              0              0        0   \n",
       "\n",
       "   Wakadewadi  Wanowrie  Warje  Yerawada  other  \n",
       "0           0         0      0         0      0  \n",
       "2           0         0      0         0      0  \n",
       "3           0         0      0         0      0  \n",
       "4           0         0      0         0      0  \n",
       "5           0         0      0         0      0  \n",
       "\n",
       "[5 rows x 112 columns]"
      ]
     },
     "execution_count": 54,
     "metadata": {},
     "output_type": "execute_result"
    }
   ],
   "source": [
    "dummies = pd.get_dummies(new_estate['location']).astype(int)\n",
    "new_estate = pd.concat([new_estate,dummies],axis='columns')\n",
    "new_estate.head()"
   ]
  },
  {
   "cell_type": "code",
   "execution_count": 55,
   "id": "16b09c9e-dabc-4094-9dcc-babbc1a783a4",
   "metadata": {},
   "outputs": [
    {
     "data": {
      "text/html": [
       "<div>\n",
       "<style scoped>\n",
       "    .dataframe tbody tr th:only-of-type {\n",
       "        vertical-align: middle;\n",
       "    }\n",
       "\n",
       "    .dataframe tbody tr th {\n",
       "        vertical-align: top;\n",
       "    }\n",
       "\n",
       "    .dataframe thead th {\n",
       "        text-align: right;\n",
       "    }\n",
       "</style>\n",
       "<table border=\"1\" class=\"dataframe\">\n",
       "  <thead>\n",
       "    <tr style=\"text-align: right;\">\n",
       "      <th></th>\n",
       "      <th>size</th>\n",
       "      <th>total_sqft</th>\n",
       "      <th>bath</th>\n",
       "      <th>balcony</th>\n",
       "      <th>Built-up  Area</th>\n",
       "      <th>Carpet  Area</th>\n",
       "      <th>Plot  Area</th>\n",
       "      <th>Super built-up  Area</th>\n",
       "      <th>Alandi Road</th>\n",
       "      <th>Ambegaon Budruk</th>\n",
       "      <th>...</th>\n",
       "      <th>Uruli Devachi</th>\n",
       "      <th>Vadgaon Budruk</th>\n",
       "      <th>Viman Nagar</th>\n",
       "      <th>Vishrant Wadi</th>\n",
       "      <th>Wadgaon Sheri</th>\n",
       "      <th>Wagholi</th>\n",
       "      <th>Wakadewadi</th>\n",
       "      <th>Wanowrie</th>\n",
       "      <th>Warje</th>\n",
       "      <th>Yerawada</th>\n",
       "    </tr>\n",
       "  </thead>\n",
       "  <tbody>\n",
       "    <tr>\n",
       "      <th>0</th>\n",
       "      <td>2</td>\n",
       "      <td>1056</td>\n",
       "      <td>2</td>\n",
       "      <td>1.0</td>\n",
       "      <td>0</td>\n",
       "      <td>0</td>\n",
       "      <td>0</td>\n",
       "      <td>1</td>\n",
       "      <td>1</td>\n",
       "      <td>0</td>\n",
       "      <td>...</td>\n",
       "      <td>0</td>\n",
       "      <td>0</td>\n",
       "      <td>0</td>\n",
       "      <td>0</td>\n",
       "      <td>0</td>\n",
       "      <td>0</td>\n",
       "      <td>0</td>\n",
       "      <td>0</td>\n",
       "      <td>0</td>\n",
       "      <td>0</td>\n",
       "    </tr>\n",
       "    <tr>\n",
       "      <th>2</th>\n",
       "      <td>3</td>\n",
       "      <td>1440</td>\n",
       "      <td>2</td>\n",
       "      <td>3.0</td>\n",
       "      <td>1</td>\n",
       "      <td>0</td>\n",
       "      <td>0</td>\n",
       "      <td>0</td>\n",
       "      <td>0</td>\n",
       "      <td>0</td>\n",
       "      <td>...</td>\n",
       "      <td>0</td>\n",
       "      <td>0</td>\n",
       "      <td>0</td>\n",
       "      <td>0</td>\n",
       "      <td>0</td>\n",
       "      <td>0</td>\n",
       "      <td>0</td>\n",
       "      <td>0</td>\n",
       "      <td>0</td>\n",
       "      <td>0</td>\n",
       "    </tr>\n",
       "    <tr>\n",
       "      <th>3</th>\n",
       "      <td>3</td>\n",
       "      <td>1521</td>\n",
       "      <td>3</td>\n",
       "      <td>1.0</td>\n",
       "      <td>0</td>\n",
       "      <td>0</td>\n",
       "      <td>0</td>\n",
       "      <td>1</td>\n",
       "      <td>0</td>\n",
       "      <td>0</td>\n",
       "      <td>...</td>\n",
       "      <td>0</td>\n",
       "      <td>0</td>\n",
       "      <td>0</td>\n",
       "      <td>0</td>\n",
       "      <td>0</td>\n",
       "      <td>0</td>\n",
       "      <td>0</td>\n",
       "      <td>0</td>\n",
       "      <td>0</td>\n",
       "      <td>0</td>\n",
       "    </tr>\n",
       "    <tr>\n",
       "      <th>4</th>\n",
       "      <td>2</td>\n",
       "      <td>1200</td>\n",
       "      <td>2</td>\n",
       "      <td>1.0</td>\n",
       "      <td>0</td>\n",
       "      <td>0</td>\n",
       "      <td>0</td>\n",
       "      <td>1</td>\n",
       "      <td>0</td>\n",
       "      <td>0</td>\n",
       "      <td>...</td>\n",
       "      <td>0</td>\n",
       "      <td>0</td>\n",
       "      <td>0</td>\n",
       "      <td>0</td>\n",
       "      <td>0</td>\n",
       "      <td>0</td>\n",
       "      <td>0</td>\n",
       "      <td>0</td>\n",
       "      <td>0</td>\n",
       "      <td>0</td>\n",
       "    </tr>\n",
       "    <tr>\n",
       "      <th>5</th>\n",
       "      <td>2</td>\n",
       "      <td>1170</td>\n",
       "      <td>2</td>\n",
       "      <td>1.0</td>\n",
       "      <td>0</td>\n",
       "      <td>0</td>\n",
       "      <td>0</td>\n",
       "      <td>1</td>\n",
       "      <td>0</td>\n",
       "      <td>0</td>\n",
       "      <td>...</td>\n",
       "      <td>0</td>\n",
       "      <td>0</td>\n",
       "      <td>0</td>\n",
       "      <td>0</td>\n",
       "      <td>0</td>\n",
       "      <td>0</td>\n",
       "      <td>0</td>\n",
       "      <td>0</td>\n",
       "      <td>0</td>\n",
       "      <td>0</td>\n",
       "    </tr>\n",
       "  </tbody>\n",
       "</table>\n",
       "<p>5 rows × 104 columns</p>\n",
       "</div>"
      ],
      "text/plain": [
       "   size  total_sqft  bath  balcony  Built-up  Area  Carpet  Area  Plot  Area  \\\n",
       "0     2        1056     2      1.0               0             0           0   \n",
       "2     3        1440     2      3.0               1             0           0   \n",
       "3     3        1521     3      1.0               0             0           0   \n",
       "4     2        1200     2      1.0               0             0           0   \n",
       "5     2        1170     2      1.0               0             0           0   \n",
       "\n",
       "   Super built-up  Area  Alandi Road  Ambegaon Budruk  ...  Uruli Devachi  \\\n",
       "0                     1            1                0  ...              0   \n",
       "2                     0            0                0  ...              0   \n",
       "3                     1            0                0  ...              0   \n",
       "4                     1            0                0  ...              0   \n",
       "5                     1            0                0  ...              0   \n",
       "\n",
       "   Vadgaon Budruk  Viman Nagar  Vishrant Wadi  Wadgaon Sheri  Wagholi  \\\n",
       "0               0            0              0              0        0   \n",
       "2               0            0              0              0        0   \n",
       "3               0            0              0              0        0   \n",
       "4               0            0              0              0        0   \n",
       "5               0            0              0              0        0   \n",
       "\n",
       "   Wakadewadi  Wanowrie  Warje  Yerawada  \n",
       "0           0         0      0         0  \n",
       "2           0         0      0         0  \n",
       "3           0         0      0         0  \n",
       "4           0         0      0         0  \n",
       "5           0         0      0         0  \n",
       "\n",
       "[5 rows x 104 columns]"
      ]
     },
     "execution_count": 55,
     "metadata": {},
     "output_type": "execute_result"
    }
   ],
   "source": [
    "X = new_estate.drop(['other','location','area_type','price','price_per_sqft','bedroom_price_per_sqft','bath_price_per_sqft','balcony_price_per_sqft'],axis='columns')\n",
    "X.head()"
   ]
  },
  {
   "cell_type": "code",
   "execution_count": 56,
   "id": "5bf708f7-8a3c-42d8-bca5-3e9f3ddd0ea6",
   "metadata": {},
   "outputs": [
    {
     "data": {
      "text/html": [
       "<div>\n",
       "<style scoped>\n",
       "    .dataframe tbody tr th:only-of-type {\n",
       "        vertical-align: middle;\n",
       "    }\n",
       "\n",
       "    .dataframe tbody tr th {\n",
       "        vertical-align: top;\n",
       "    }\n",
       "\n",
       "    .dataframe thead th {\n",
       "        text-align: right;\n",
       "    }\n",
       "</style>\n",
       "<table border=\"1\" class=\"dataframe\">\n",
       "  <thead>\n",
       "    <tr style=\"text-align: right;\">\n",
       "      <th></th>\n",
       "      <th>size</th>\n",
       "      <th>total_sqft</th>\n",
       "      <th>bath</th>\n",
       "      <th>balcony</th>\n",
       "      <th>Built-up Area</th>\n",
       "      <th>Carpet Area</th>\n",
       "      <th>Plot Area</th>\n",
       "      <th>Super built-up Area</th>\n",
       "      <th>Alandi Road</th>\n",
       "      <th>Ambegaon Budruk</th>\n",
       "      <th>...</th>\n",
       "      <th>Uruli Devachi</th>\n",
       "      <th>Vadgaon Budruk</th>\n",
       "      <th>Viman Nagar</th>\n",
       "      <th>Vishrant Wadi</th>\n",
       "      <th>Wadgaon Sheri</th>\n",
       "      <th>Wagholi</th>\n",
       "      <th>Wakadewadi</th>\n",
       "      <th>Wanowrie</th>\n",
       "      <th>Warje</th>\n",
       "      <th>Yerawada</th>\n",
       "    </tr>\n",
       "  </thead>\n",
       "  <tbody>\n",
       "    <tr>\n",
       "      <th>0</th>\n",
       "      <td>2</td>\n",
       "      <td>1056</td>\n",
       "      <td>2</td>\n",
       "      <td>1.0</td>\n",
       "      <td>0</td>\n",
       "      <td>0</td>\n",
       "      <td>0</td>\n",
       "      <td>1</td>\n",
       "      <td>1</td>\n",
       "      <td>0</td>\n",
       "      <td>...</td>\n",
       "      <td>0</td>\n",
       "      <td>0</td>\n",
       "      <td>0</td>\n",
       "      <td>0</td>\n",
       "      <td>0</td>\n",
       "      <td>0</td>\n",
       "      <td>0</td>\n",
       "      <td>0</td>\n",
       "      <td>0</td>\n",
       "      <td>0</td>\n",
       "    </tr>\n",
       "    <tr>\n",
       "      <th>2</th>\n",
       "      <td>3</td>\n",
       "      <td>1440</td>\n",
       "      <td>2</td>\n",
       "      <td>3.0</td>\n",
       "      <td>1</td>\n",
       "      <td>0</td>\n",
       "      <td>0</td>\n",
       "      <td>0</td>\n",
       "      <td>0</td>\n",
       "      <td>0</td>\n",
       "      <td>...</td>\n",
       "      <td>0</td>\n",
       "      <td>0</td>\n",
       "      <td>0</td>\n",
       "      <td>0</td>\n",
       "      <td>0</td>\n",
       "      <td>0</td>\n",
       "      <td>0</td>\n",
       "      <td>0</td>\n",
       "      <td>0</td>\n",
       "      <td>0</td>\n",
       "    </tr>\n",
       "    <tr>\n",
       "      <th>3</th>\n",
       "      <td>3</td>\n",
       "      <td>1521</td>\n",
       "      <td>3</td>\n",
       "      <td>1.0</td>\n",
       "      <td>0</td>\n",
       "      <td>0</td>\n",
       "      <td>0</td>\n",
       "      <td>1</td>\n",
       "      <td>0</td>\n",
       "      <td>0</td>\n",
       "      <td>...</td>\n",
       "      <td>0</td>\n",
       "      <td>0</td>\n",
       "      <td>0</td>\n",
       "      <td>0</td>\n",
       "      <td>0</td>\n",
       "      <td>0</td>\n",
       "      <td>0</td>\n",
       "      <td>0</td>\n",
       "      <td>0</td>\n",
       "      <td>0</td>\n",
       "    </tr>\n",
       "    <tr>\n",
       "      <th>4</th>\n",
       "      <td>2</td>\n",
       "      <td>1200</td>\n",
       "      <td>2</td>\n",
       "      <td>1.0</td>\n",
       "      <td>0</td>\n",
       "      <td>0</td>\n",
       "      <td>0</td>\n",
       "      <td>1</td>\n",
       "      <td>0</td>\n",
       "      <td>0</td>\n",
       "      <td>...</td>\n",
       "      <td>0</td>\n",
       "      <td>0</td>\n",
       "      <td>0</td>\n",
       "      <td>0</td>\n",
       "      <td>0</td>\n",
       "      <td>0</td>\n",
       "      <td>0</td>\n",
       "      <td>0</td>\n",
       "      <td>0</td>\n",
       "      <td>0</td>\n",
       "    </tr>\n",
       "    <tr>\n",
       "      <th>5</th>\n",
       "      <td>2</td>\n",
       "      <td>1170</td>\n",
       "      <td>2</td>\n",
       "      <td>1.0</td>\n",
       "      <td>0</td>\n",
       "      <td>0</td>\n",
       "      <td>0</td>\n",
       "      <td>1</td>\n",
       "      <td>0</td>\n",
       "      <td>0</td>\n",
       "      <td>...</td>\n",
       "      <td>0</td>\n",
       "      <td>0</td>\n",
       "      <td>0</td>\n",
       "      <td>0</td>\n",
       "      <td>0</td>\n",
       "      <td>0</td>\n",
       "      <td>0</td>\n",
       "      <td>0</td>\n",
       "      <td>0</td>\n",
       "      <td>0</td>\n",
       "    </tr>\n",
       "  </tbody>\n",
       "</table>\n",
       "<p>5 rows × 104 columns</p>\n",
       "</div>"
      ],
      "text/plain": [
       "   size  total_sqft  bath  balcony  Built-up Area  Carpet Area  Plot Area  \\\n",
       "0     2        1056     2      1.0              0            0          0   \n",
       "2     3        1440     2      3.0              1            0          0   \n",
       "3     3        1521     3      1.0              0            0          0   \n",
       "4     2        1200     2      1.0              0            0          0   \n",
       "5     2        1170     2      1.0              0            0          0   \n",
       "\n",
       "   Super built-up Area  Alandi Road  Ambegaon Budruk  ...  Uruli Devachi  \\\n",
       "0                    1            1                0  ...              0   \n",
       "2                    0            0                0  ...              0   \n",
       "3                    1            0                0  ...              0   \n",
       "4                    1            0                0  ...              0   \n",
       "5                    1            0                0  ...              0   \n",
       "\n",
       "   Vadgaon Budruk  Viman Nagar  Vishrant Wadi  Wadgaon Sheri  Wagholi  \\\n",
       "0               0            0              0              0        0   \n",
       "2               0            0              0              0        0   \n",
       "3               0            0              0              0        0   \n",
       "4               0            0              0              0        0   \n",
       "5               0            0              0              0        0   \n",
       "\n",
       "   Wakadewadi  Wanowrie  Warje  Yerawada  \n",
       "0           0         0      0         0  \n",
       "2           0         0      0         0  \n",
       "3           0         0      0         0  \n",
       "4           0         0      0         0  \n",
       "5           0         0      0         0  \n",
       "\n",
       "[5 rows x 104 columns]"
      ]
     },
     "execution_count": 56,
     "metadata": {},
     "output_type": "execute_result"
    }
   ],
   "source": [
    "X.columns = X.columns.str.replace('  ',' ')  # replace two spaces with 1 space for columns\n",
    "X.head()"
   ]
  },
  {
   "cell_type": "code",
   "execution_count": 57,
   "id": "61587f49-31b2-4191-9f10-f06a2df638fa",
   "metadata": {},
   "outputs": [
    {
     "data": {
      "text/plain": [
       "0    39.07\n",
       "2    62.00\n",
       "3    95.00\n",
       "4    51.00\n",
       "5    38.00\n",
       "Name: price, dtype: float64"
      ]
     },
     "execution_count": 57,
     "metadata": {},
     "output_type": "execute_result"
    }
   ],
   "source": [
    "Y = new_estate['price']\n",
    "Y.head()"
   ]
  },
  {
   "cell_type": "code",
   "execution_count": 58,
   "id": "6b830021-fb83-4991-bac2-430a833bf5f2",
   "metadata": {},
   "outputs": [],
   "source": [
    "# Split the dataset into training and testing data\n",
    "from sklearn.model_selection import train_test_split\n",
    "X_train,X_test,Y_train,Y_test = train_test_split(X,Y,test_size=0.2,random_state=10)"
   ]
  },
  {
   "cell_type": "code",
   "execution_count": 59,
   "id": "65492312-2093-461e-9ff5-7a8d70217c87",
   "metadata": {},
   "outputs": [
    {
     "data": {
      "text/plain": [
       "7160"
      ]
     },
     "execution_count": 59,
     "metadata": {},
     "output_type": "execute_result"
    }
   ],
   "source": [
    "len(X_train)"
   ]
  },
  {
   "cell_type": "code",
   "execution_count": 60,
   "id": "0317ed70-f714-44ec-af59-5be131aa32c1",
   "metadata": {},
   "outputs": [
    {
     "data": {
      "text/plain": [
       "1791"
      ]
     },
     "execution_count": 60,
     "metadata": {},
     "output_type": "execute_result"
    }
   ],
   "source": [
    "len(X_test)"
   ]
  },
  {
   "cell_type": "code",
   "execution_count": 61,
   "id": "079c43fe-1ef1-4d65-b631-ff076ae54874",
   "metadata": {},
   "outputs": [
    {
     "data": {
      "text/plain": [
       "7160"
      ]
     },
     "execution_count": 61,
     "metadata": {},
     "output_type": "execute_result"
    }
   ],
   "source": [
    "len(Y_train)"
   ]
  },
  {
   "cell_type": "code",
   "execution_count": 62,
   "id": "d507876b-8c33-48fe-b9c7-d9e3c8f3f219",
   "metadata": {},
   "outputs": [
    {
     "data": {
      "text/plain": [
       "1791"
      ]
     },
     "execution_count": 62,
     "metadata": {},
     "output_type": "execute_result"
    }
   ],
   "source": [
    "len(Y_test)"
   ]
  },
  {
   "cell_type": "code",
   "execution_count": 63,
   "id": "b85420a3-75dc-460a-9cb1-500fe5d0c7c1",
   "metadata": {},
   "outputs": [
    {
     "data": {
      "text/html": [
       "<style>#sk-container-id-1 {\n",
       "  /* Definition of color scheme common for light and dark mode */\n",
       "  --sklearn-color-text: black;\n",
       "  --sklearn-color-line: gray;\n",
       "  /* Definition of color scheme for unfitted estimators */\n",
       "  --sklearn-color-unfitted-level-0: #fff5e6;\n",
       "  --sklearn-color-unfitted-level-1: #f6e4d2;\n",
       "  --sklearn-color-unfitted-level-2: #ffe0b3;\n",
       "  --sklearn-color-unfitted-level-3: chocolate;\n",
       "  /* Definition of color scheme for fitted estimators */\n",
       "  --sklearn-color-fitted-level-0: #f0f8ff;\n",
       "  --sklearn-color-fitted-level-1: #d4ebff;\n",
       "  --sklearn-color-fitted-level-2: #b3dbfd;\n",
       "  --sklearn-color-fitted-level-3: cornflowerblue;\n",
       "\n",
       "  /* Specific color for light theme */\n",
       "  --sklearn-color-text-on-default-background: var(--sg-text-color, var(--theme-code-foreground, var(--jp-content-font-color1, black)));\n",
       "  --sklearn-color-background: var(--sg-background-color, var(--theme-background, var(--jp-layout-color0, white)));\n",
       "  --sklearn-color-border-box: var(--sg-text-color, var(--theme-code-foreground, var(--jp-content-font-color1, black)));\n",
       "  --sklearn-color-icon: #696969;\n",
       "\n",
       "  @media (prefers-color-scheme: dark) {\n",
       "    /* Redefinition of color scheme for dark theme */\n",
       "    --sklearn-color-text-on-default-background: var(--sg-text-color, var(--theme-code-foreground, var(--jp-content-font-color1, white)));\n",
       "    --sklearn-color-background: var(--sg-background-color, var(--theme-background, var(--jp-layout-color0, #111)));\n",
       "    --sklearn-color-border-box: var(--sg-text-color, var(--theme-code-foreground, var(--jp-content-font-color1, white)));\n",
       "    --sklearn-color-icon: #878787;\n",
       "  }\n",
       "}\n",
       "\n",
       "#sk-container-id-1 {\n",
       "  color: var(--sklearn-color-text);\n",
       "}\n",
       "\n",
       "#sk-container-id-1 pre {\n",
       "  padding: 0;\n",
       "}\n",
       "\n",
       "#sk-container-id-1 input.sk-hidden--visually {\n",
       "  border: 0;\n",
       "  clip: rect(1px 1px 1px 1px);\n",
       "  clip: rect(1px, 1px, 1px, 1px);\n",
       "  height: 1px;\n",
       "  margin: -1px;\n",
       "  overflow: hidden;\n",
       "  padding: 0;\n",
       "  position: absolute;\n",
       "  width: 1px;\n",
       "}\n",
       "\n",
       "#sk-container-id-1 div.sk-dashed-wrapped {\n",
       "  border: 1px dashed var(--sklearn-color-line);\n",
       "  margin: 0 0.4em 0.5em 0.4em;\n",
       "  box-sizing: border-box;\n",
       "  padding-bottom: 0.4em;\n",
       "  background-color: var(--sklearn-color-background);\n",
       "}\n",
       "\n",
       "#sk-container-id-1 div.sk-container {\n",
       "  /* jupyter's `normalize.less` sets `[hidden] { display: none; }`\n",
       "     but bootstrap.min.css set `[hidden] { display: none !important; }`\n",
       "     so we also need the `!important` here to be able to override the\n",
       "     default hidden behavior on the sphinx rendered scikit-learn.org.\n",
       "     See: https://github.com/scikit-learn/scikit-learn/issues/21755 */\n",
       "  display: inline-block !important;\n",
       "  position: relative;\n",
       "}\n",
       "\n",
       "#sk-container-id-1 div.sk-text-repr-fallback {\n",
       "  display: none;\n",
       "}\n",
       "\n",
       "div.sk-parallel-item,\n",
       "div.sk-serial,\n",
       "div.sk-item {\n",
       "  /* draw centered vertical line to link estimators */\n",
       "  background-image: linear-gradient(var(--sklearn-color-text-on-default-background), var(--sklearn-color-text-on-default-background));\n",
       "  background-size: 2px 100%;\n",
       "  background-repeat: no-repeat;\n",
       "  background-position: center center;\n",
       "}\n",
       "\n",
       "/* Parallel-specific style estimator block */\n",
       "\n",
       "#sk-container-id-1 div.sk-parallel-item::after {\n",
       "  content: \"\";\n",
       "  width: 100%;\n",
       "  border-bottom: 2px solid var(--sklearn-color-text-on-default-background);\n",
       "  flex-grow: 1;\n",
       "}\n",
       "\n",
       "#sk-container-id-1 div.sk-parallel {\n",
       "  display: flex;\n",
       "  align-items: stretch;\n",
       "  justify-content: center;\n",
       "  background-color: var(--sklearn-color-background);\n",
       "  position: relative;\n",
       "}\n",
       "\n",
       "#sk-container-id-1 div.sk-parallel-item {\n",
       "  display: flex;\n",
       "  flex-direction: column;\n",
       "}\n",
       "\n",
       "#sk-container-id-1 div.sk-parallel-item:first-child::after {\n",
       "  align-self: flex-end;\n",
       "  width: 50%;\n",
       "}\n",
       "\n",
       "#sk-container-id-1 div.sk-parallel-item:last-child::after {\n",
       "  align-self: flex-start;\n",
       "  width: 50%;\n",
       "}\n",
       "\n",
       "#sk-container-id-1 div.sk-parallel-item:only-child::after {\n",
       "  width: 0;\n",
       "}\n",
       "\n",
       "/* Serial-specific style estimator block */\n",
       "\n",
       "#sk-container-id-1 div.sk-serial {\n",
       "  display: flex;\n",
       "  flex-direction: column;\n",
       "  align-items: center;\n",
       "  background-color: var(--sklearn-color-background);\n",
       "  padding-right: 1em;\n",
       "  padding-left: 1em;\n",
       "}\n",
       "\n",
       "\n",
       "/* Toggleable style: style used for estimator/Pipeline/ColumnTransformer box that is\n",
       "clickable and can be expanded/collapsed.\n",
       "- Pipeline and ColumnTransformer use this feature and define the default style\n",
       "- Estimators will overwrite some part of the style using the `sk-estimator` class\n",
       "*/\n",
       "\n",
       "/* Pipeline and ColumnTransformer style (default) */\n",
       "\n",
       "#sk-container-id-1 div.sk-toggleable {\n",
       "  /* Default theme specific background. It is overwritten whether we have a\n",
       "  specific estimator or a Pipeline/ColumnTransformer */\n",
       "  background-color: var(--sklearn-color-background);\n",
       "}\n",
       "\n",
       "/* Toggleable label */\n",
       "#sk-container-id-1 label.sk-toggleable__label {\n",
       "  cursor: pointer;\n",
       "  display: block;\n",
       "  width: 100%;\n",
       "  margin-bottom: 0;\n",
       "  padding: 0.5em;\n",
       "  box-sizing: border-box;\n",
       "  text-align: center;\n",
       "}\n",
       "\n",
       "#sk-container-id-1 label.sk-toggleable__label-arrow:before {\n",
       "  /* Arrow on the left of the label */\n",
       "  content: \"▸\";\n",
       "  float: left;\n",
       "  margin-right: 0.25em;\n",
       "  color: var(--sklearn-color-icon);\n",
       "}\n",
       "\n",
       "#sk-container-id-1 label.sk-toggleable__label-arrow:hover:before {\n",
       "  color: var(--sklearn-color-text);\n",
       "}\n",
       "\n",
       "/* Toggleable content - dropdown */\n",
       "\n",
       "#sk-container-id-1 div.sk-toggleable__content {\n",
       "  max-height: 0;\n",
       "  max-width: 0;\n",
       "  overflow: hidden;\n",
       "  text-align: left;\n",
       "  /* unfitted */\n",
       "  background-color: var(--sklearn-color-unfitted-level-0);\n",
       "}\n",
       "\n",
       "#sk-container-id-1 div.sk-toggleable__content.fitted {\n",
       "  /* fitted */\n",
       "  background-color: var(--sklearn-color-fitted-level-0);\n",
       "}\n",
       "\n",
       "#sk-container-id-1 div.sk-toggleable__content pre {\n",
       "  margin: 0.2em;\n",
       "  border-radius: 0.25em;\n",
       "  color: var(--sklearn-color-text);\n",
       "  /* unfitted */\n",
       "  background-color: var(--sklearn-color-unfitted-level-0);\n",
       "}\n",
       "\n",
       "#sk-container-id-1 div.sk-toggleable__content.fitted pre {\n",
       "  /* unfitted */\n",
       "  background-color: var(--sklearn-color-fitted-level-0);\n",
       "}\n",
       "\n",
       "#sk-container-id-1 input.sk-toggleable__control:checked~div.sk-toggleable__content {\n",
       "  /* Expand drop-down */\n",
       "  max-height: 200px;\n",
       "  max-width: 100%;\n",
       "  overflow: auto;\n",
       "}\n",
       "\n",
       "#sk-container-id-1 input.sk-toggleable__control:checked~label.sk-toggleable__label-arrow:before {\n",
       "  content: \"▾\";\n",
       "}\n",
       "\n",
       "/* Pipeline/ColumnTransformer-specific style */\n",
       "\n",
       "#sk-container-id-1 div.sk-label input.sk-toggleable__control:checked~label.sk-toggleable__label {\n",
       "  color: var(--sklearn-color-text);\n",
       "  background-color: var(--sklearn-color-unfitted-level-2);\n",
       "}\n",
       "\n",
       "#sk-container-id-1 div.sk-label.fitted input.sk-toggleable__control:checked~label.sk-toggleable__label {\n",
       "  background-color: var(--sklearn-color-fitted-level-2);\n",
       "}\n",
       "\n",
       "/* Estimator-specific style */\n",
       "\n",
       "/* Colorize estimator box */\n",
       "#sk-container-id-1 div.sk-estimator input.sk-toggleable__control:checked~label.sk-toggleable__label {\n",
       "  /* unfitted */\n",
       "  background-color: var(--sklearn-color-unfitted-level-2);\n",
       "}\n",
       "\n",
       "#sk-container-id-1 div.sk-estimator.fitted input.sk-toggleable__control:checked~label.sk-toggleable__label {\n",
       "  /* fitted */\n",
       "  background-color: var(--sklearn-color-fitted-level-2);\n",
       "}\n",
       "\n",
       "#sk-container-id-1 div.sk-label label.sk-toggleable__label,\n",
       "#sk-container-id-1 div.sk-label label {\n",
       "  /* The background is the default theme color */\n",
       "  color: var(--sklearn-color-text-on-default-background);\n",
       "}\n",
       "\n",
       "/* On hover, darken the color of the background */\n",
       "#sk-container-id-1 div.sk-label:hover label.sk-toggleable__label {\n",
       "  color: var(--sklearn-color-text);\n",
       "  background-color: var(--sklearn-color-unfitted-level-2);\n",
       "}\n",
       "\n",
       "/* Label box, darken color on hover, fitted */\n",
       "#sk-container-id-1 div.sk-label.fitted:hover label.sk-toggleable__label.fitted {\n",
       "  color: var(--sklearn-color-text);\n",
       "  background-color: var(--sklearn-color-fitted-level-2);\n",
       "}\n",
       "\n",
       "/* Estimator label */\n",
       "\n",
       "#sk-container-id-1 div.sk-label label {\n",
       "  font-family: monospace;\n",
       "  font-weight: bold;\n",
       "  display: inline-block;\n",
       "  line-height: 1.2em;\n",
       "}\n",
       "\n",
       "#sk-container-id-1 div.sk-label-container {\n",
       "  text-align: center;\n",
       "}\n",
       "\n",
       "/* Estimator-specific */\n",
       "#sk-container-id-1 div.sk-estimator {\n",
       "  font-family: monospace;\n",
       "  border: 1px dotted var(--sklearn-color-border-box);\n",
       "  border-radius: 0.25em;\n",
       "  box-sizing: border-box;\n",
       "  margin-bottom: 0.5em;\n",
       "  /* unfitted */\n",
       "  background-color: var(--sklearn-color-unfitted-level-0);\n",
       "}\n",
       "\n",
       "#sk-container-id-1 div.sk-estimator.fitted {\n",
       "  /* fitted */\n",
       "  background-color: var(--sklearn-color-fitted-level-0);\n",
       "}\n",
       "\n",
       "/* on hover */\n",
       "#sk-container-id-1 div.sk-estimator:hover {\n",
       "  /* unfitted */\n",
       "  background-color: var(--sklearn-color-unfitted-level-2);\n",
       "}\n",
       "\n",
       "#sk-container-id-1 div.sk-estimator.fitted:hover {\n",
       "  /* fitted */\n",
       "  background-color: var(--sklearn-color-fitted-level-2);\n",
       "}\n",
       "\n",
       "/* Specification for estimator info (e.g. \"i\" and \"?\") */\n",
       "\n",
       "/* Common style for \"i\" and \"?\" */\n",
       "\n",
       ".sk-estimator-doc-link,\n",
       "a:link.sk-estimator-doc-link,\n",
       "a:visited.sk-estimator-doc-link {\n",
       "  float: right;\n",
       "  font-size: smaller;\n",
       "  line-height: 1em;\n",
       "  font-family: monospace;\n",
       "  background-color: var(--sklearn-color-background);\n",
       "  border-radius: 1em;\n",
       "  height: 1em;\n",
       "  width: 1em;\n",
       "  text-decoration: none !important;\n",
       "  margin-left: 1ex;\n",
       "  /* unfitted */\n",
       "  border: var(--sklearn-color-unfitted-level-1) 1pt solid;\n",
       "  color: var(--sklearn-color-unfitted-level-1);\n",
       "}\n",
       "\n",
       ".sk-estimator-doc-link.fitted,\n",
       "a:link.sk-estimator-doc-link.fitted,\n",
       "a:visited.sk-estimator-doc-link.fitted {\n",
       "  /* fitted */\n",
       "  border: var(--sklearn-color-fitted-level-1) 1pt solid;\n",
       "  color: var(--sklearn-color-fitted-level-1);\n",
       "}\n",
       "\n",
       "/* On hover */\n",
       "div.sk-estimator:hover .sk-estimator-doc-link:hover,\n",
       ".sk-estimator-doc-link:hover,\n",
       "div.sk-label-container:hover .sk-estimator-doc-link:hover,\n",
       ".sk-estimator-doc-link:hover {\n",
       "  /* unfitted */\n",
       "  background-color: var(--sklearn-color-unfitted-level-3);\n",
       "  color: var(--sklearn-color-background);\n",
       "  text-decoration: none;\n",
       "}\n",
       "\n",
       "div.sk-estimator.fitted:hover .sk-estimator-doc-link.fitted:hover,\n",
       ".sk-estimator-doc-link.fitted:hover,\n",
       "div.sk-label-container:hover .sk-estimator-doc-link.fitted:hover,\n",
       ".sk-estimator-doc-link.fitted:hover {\n",
       "  /* fitted */\n",
       "  background-color: var(--sklearn-color-fitted-level-3);\n",
       "  color: var(--sklearn-color-background);\n",
       "  text-decoration: none;\n",
       "}\n",
       "\n",
       "/* Span, style for the box shown on hovering the info icon */\n",
       ".sk-estimator-doc-link span {\n",
       "  display: none;\n",
       "  z-index: 9999;\n",
       "  position: relative;\n",
       "  font-weight: normal;\n",
       "  right: .2ex;\n",
       "  padding: .5ex;\n",
       "  margin: .5ex;\n",
       "  width: min-content;\n",
       "  min-width: 20ex;\n",
       "  max-width: 50ex;\n",
       "  color: var(--sklearn-color-text);\n",
       "  box-shadow: 2pt 2pt 4pt #999;\n",
       "  /* unfitted */\n",
       "  background: var(--sklearn-color-unfitted-level-0);\n",
       "  border: .5pt solid var(--sklearn-color-unfitted-level-3);\n",
       "}\n",
       "\n",
       ".sk-estimator-doc-link.fitted span {\n",
       "  /* fitted */\n",
       "  background: var(--sklearn-color-fitted-level-0);\n",
       "  border: var(--sklearn-color-fitted-level-3);\n",
       "}\n",
       "\n",
       ".sk-estimator-doc-link:hover span {\n",
       "  display: block;\n",
       "}\n",
       "\n",
       "/* \"?\"-specific style due to the `<a>` HTML tag */\n",
       "\n",
       "#sk-container-id-1 a.estimator_doc_link {\n",
       "  float: right;\n",
       "  font-size: 1rem;\n",
       "  line-height: 1em;\n",
       "  font-family: monospace;\n",
       "  background-color: var(--sklearn-color-background);\n",
       "  border-radius: 1rem;\n",
       "  height: 1rem;\n",
       "  width: 1rem;\n",
       "  text-decoration: none;\n",
       "  /* unfitted */\n",
       "  color: var(--sklearn-color-unfitted-level-1);\n",
       "  border: var(--sklearn-color-unfitted-level-1) 1pt solid;\n",
       "}\n",
       "\n",
       "#sk-container-id-1 a.estimator_doc_link.fitted {\n",
       "  /* fitted */\n",
       "  border: var(--sklearn-color-fitted-level-1) 1pt solid;\n",
       "  color: var(--sklearn-color-fitted-level-1);\n",
       "}\n",
       "\n",
       "/* On hover */\n",
       "#sk-container-id-1 a.estimator_doc_link:hover {\n",
       "  /* unfitted */\n",
       "  background-color: var(--sklearn-color-unfitted-level-3);\n",
       "  color: var(--sklearn-color-background);\n",
       "  text-decoration: none;\n",
       "}\n",
       "\n",
       "#sk-container-id-1 a.estimator_doc_link.fitted:hover {\n",
       "  /* fitted */\n",
       "  background-color: var(--sklearn-color-fitted-level-3);\n",
       "}\n",
       "</style><div id=\"sk-container-id-1\" class=\"sk-top-container\"><div class=\"sk-text-repr-fallback\"><pre>LinearRegression(n_jobs=1)</pre><b>In a Jupyter environment, please rerun this cell to show the HTML representation or trust the notebook. <br />On GitHub, the HTML representation is unable to render, please try loading this page with nbviewer.org.</b></div><div class=\"sk-container\" hidden><div class=\"sk-item\"><div class=\"sk-estimator fitted sk-toggleable\"><input class=\"sk-toggleable__control sk-hidden--visually\" id=\"sk-estimator-id-1\" type=\"checkbox\" checked><label for=\"sk-estimator-id-1\" class=\"sk-toggleable__label fitted sk-toggleable__label-arrow fitted\">&nbsp;&nbsp;LinearRegression<a class=\"sk-estimator-doc-link fitted\" rel=\"noreferrer\" target=\"_blank\" href=\"https://scikit-learn.org/1.5/modules/generated/sklearn.linear_model.LinearRegression.html\">?<span>Documentation for LinearRegression</span></a><span class=\"sk-estimator-doc-link fitted\">i<span>Fitted</span></span></label><div class=\"sk-toggleable__content fitted\"><pre>LinearRegression(n_jobs=1)</pre></div> </div></div></div></div>"
      ],
      "text/plain": [
       "LinearRegression(n_jobs=1)"
      ]
     },
     "execution_count": 63,
     "metadata": {},
     "output_type": "execute_result"
    }
   ],
   "source": [
    "from sklearn.linear_model import LinearRegression\n",
    "model = LinearRegression(n_jobs=1)\n",
    "model.fit(X_train.values,Y_train)\n",
    "model"
   ]
  },
  {
   "cell_type": "code",
   "execution_count": 64,
   "id": "a51b090f-7595-41cc-90f4-77373c5d4a62",
   "metadata": {},
   "outputs": [
    {
     "data": {
      "text/plain": [
       "0.6505033300451364"
      ]
     },
     "execution_count": 64,
     "metadata": {},
     "output_type": "execute_result"
    }
   ],
   "source": [
    "model.score(X_train.values,Y_train)"
   ]
  },
  {
   "cell_type": "code",
   "execution_count": 65,
   "id": "af4083a8-9c3f-4041-8572-0d51a2a30016",
   "metadata": {},
   "outputs": [
    {
     "data": {
      "text/plain": [
       "0.6629300873247012"
      ]
     },
     "execution_count": 65,
     "metadata": {},
     "output_type": "execute_result"
    }
   ],
   "source": [
    "model.score(X_test.values,Y_test)"
   ]
  },
  {
   "cell_type": "code",
   "execution_count": 66,
   "id": "64063a3c-6185-442f-a920-8e88ade3bc34",
   "metadata": {},
   "outputs": [],
   "source": [
    "def predict_price(location,area_type,size,total_sqft,bath,balcony):  # function to predict price\n",
    "    loc_index = np.where(X.columns == location)[0][0]  # returs the index of the location entered\n",
    "    loc_index1 = np.where(X.columns == area_type)[0][0]\n",
    "    x = np.zeros(len(X.columns))\n",
    "    # x[0] = area_type\n",
    "    x[0] = size\n",
    "    x[1] = total_sqft\n",
    "    x[2] = bath\n",
    "    x[3] = balcony\n",
    "    if loc_index>=0:\n",
    "        x[loc_index] = 1\n",
    "    if loc_index1>=0:\n",
    "        x[loc_index1] = 1\n",
    "    return model.predict([x])[0]"
   ]
  },
  {
   "cell_type": "code",
   "execution_count": 67,
   "id": "ac14cde4-037f-404f-8673-2694e783084b",
   "metadata": {},
   "outputs": [
    {
     "data": {
      "text/plain": [
       "68.84321594238281"
      ]
     },
     "execution_count": 67,
     "metadata": {},
     "output_type": "execute_result"
    }
   ],
   "source": [
    "predict_price('Anandnagar','Built-up Area',3,1440,2,3)  "
   ]
  },
  {
   "cell_type": "code",
   "execution_count": 68,
   "id": "42d13ceb-2121-4737-bc9a-4b40b2d92111",
   "metadata": {},
   "outputs": [
    {
     "data": {
      "text/plain": [
       "108.31391906738281"
      ]
     },
     "execution_count": 68,
     "metadata": {},
     "output_type": "execute_result"
    }
   ],
   "source": [
    "predict_price('Camp','Super built-up Area',3,1800,3,3)"
   ]
  },
  {
   "cell_type": "code",
   "execution_count": 69,
   "id": "9638e12a-9596-4d35-a750-921b6c4da511",
   "metadata": {},
   "outputs": [],
   "source": [
    "import pickle  # saves the model\n",
    "with open('pune_house_data_model_pickle','wb') as f:   # using pickle module we dump the model into a file using write binary mode (wb)\n",
    "    pickle.dump(model,f)"
   ]
  },
  {
   "cell_type": "code",
   "execution_count": 70,
   "id": "f50807f9-0d18-4d65-9dce-063108ab0cd3",
   "metadata": {},
   "outputs": [],
   "source": [
    "import json   # saves the column names in json which we will require later\n",
    "columns = {\n",
    "    'data_columns' : [col.lower() for col in X.columns]\n",
    "}\n",
    "with open('columns.json','w') as f:\n",
    "    json.dump(columns,f)"
   ]
  }
 ],
 "metadata": {
  "kernelspec": {
   "display_name": "Python 3 (ipykernel)",
   "language": "python",
   "name": "python3"
  },
  "language_info": {
   "codemirror_mode": {
    "name": "ipython",
    "version": 3
   },
   "file_extension": ".py",
   "mimetype": "text/x-python",
   "name": "python",
   "nbconvert_exporter": "python",
   "pygments_lexer": "ipython3",
   "version": "3.11.7"
  }
 },
 "nbformat": 4,
 "nbformat_minor": 5
}
